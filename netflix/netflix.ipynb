{
 "cells": [
  {
   "cell_type": "markdown",
   "metadata": {
    "id": "7d24a988"
   },
   "source": [
    "Problem Statement:\n",
    "\n",
    "A dataset from `net` is given. Perform EDA operations and analyse the data so that which type of `Movies`or `TV shows` should be produced"
   ]
  },
  {
   "cell_type": "code",
   "execution_count": 1,
   "metadata": {
    "id": "36d3a19b"
   },
   "outputs": [],
   "source": [
    "import numpy as np\n",
    "import pandas as pd\n",
    "import matplotlib.pyplot as plt\n",
    "import seaborn as sns"
   ]
  },
  {
   "cell_type": "code",
   "execution_count": 2,
   "metadata": {
    "colab": {
     "base_uri": "https://localhost:8080/",
     "height": 337
    },
    "id": "ef1636fe",
    "outputId": "440ccfc9-902c-4841-9230-a67f413b598b"
   },
   "outputs": [
    {
     "data": {
      "text/html": [
       "<div>\n",
       "<style scoped>\n",
       "    .dataframe tbody tr th:only-of-type {\n",
       "        vertical-align: middle;\n",
       "    }\n",
       "\n",
       "    .dataframe tbody tr th {\n",
       "        vertical-align: top;\n",
       "    }\n",
       "\n",
       "    .dataframe thead th {\n",
       "        text-align: right;\n",
       "    }\n",
       "</style>\n",
       "<table border=\"1\" class=\"dataframe\">\n",
       "  <thead>\n",
       "    <tr style=\"text-align: right;\">\n",
       "      <th></th>\n",
       "      <th>show_id</th>\n",
       "      <th>type</th>\n",
       "      <th>title</th>\n",
       "      <th>director</th>\n",
       "      <th>cast</th>\n",
       "      <th>country</th>\n",
       "      <th>date_added</th>\n",
       "      <th>release_year</th>\n",
       "      <th>rating</th>\n",
       "      <th>duration</th>\n",
       "      <th>listed_in</th>\n",
       "      <th>description</th>\n",
       "    </tr>\n",
       "  </thead>\n",
       "  <tbody>\n",
       "    <tr>\n",
       "      <th>0</th>\n",
       "      <td>s1</td>\n",
       "      <td>Movie</td>\n",
       "      <td>Dick Johnson Is Dead</td>\n",
       "      <td>Kirsten Johnson</td>\n",
       "      <td>NaN</td>\n",
       "      <td>United States</td>\n",
       "      <td>September 25, 2021</td>\n",
       "      <td>2020</td>\n",
       "      <td>PG-13</td>\n",
       "      <td>90 min</td>\n",
       "      <td>Documentaries</td>\n",
       "      <td>As her father nears the end of his life, filmm...</td>\n",
       "    </tr>\n",
       "    <tr>\n",
       "      <th>1</th>\n",
       "      <td>s2</td>\n",
       "      <td>TV Show</td>\n",
       "      <td>Blood &amp; Water</td>\n",
       "      <td>NaN</td>\n",
       "      <td>Ama Qamata, Khosi Ngema, Gail Mabalane, Thaban...</td>\n",
       "      <td>South Africa</td>\n",
       "      <td>September 24, 2021</td>\n",
       "      <td>2021</td>\n",
       "      <td>TV-MA</td>\n",
       "      <td>2 Seasons</td>\n",
       "      <td>International TV Shows, TV Dramas, TV Mysteries</td>\n",
       "      <td>After crossing paths at a party, a Cape Town t...</td>\n",
       "    </tr>\n",
       "    <tr>\n",
       "      <th>2</th>\n",
       "      <td>s3</td>\n",
       "      <td>TV Show</td>\n",
       "      <td>Ganglands</td>\n",
       "      <td>Julien Leclercq</td>\n",
       "      <td>Sami Bouajila, Tracy Gotoas, Samuel Jouy, Nabi...</td>\n",
       "      <td>NaN</td>\n",
       "      <td>September 24, 2021</td>\n",
       "      <td>2021</td>\n",
       "      <td>TV-MA</td>\n",
       "      <td>1 Season</td>\n",
       "      <td>Crime TV Shows, International TV Shows, TV Act...</td>\n",
       "      <td>To protect his family from a powerful drug lor...</td>\n",
       "    </tr>\n",
       "    <tr>\n",
       "      <th>3</th>\n",
       "      <td>s4</td>\n",
       "      <td>TV Show</td>\n",
       "      <td>Jailbirds New Orleans</td>\n",
       "      <td>NaN</td>\n",
       "      <td>NaN</td>\n",
       "      <td>NaN</td>\n",
       "      <td>September 24, 2021</td>\n",
       "      <td>2021</td>\n",
       "      <td>TV-MA</td>\n",
       "      <td>1 Season</td>\n",
       "      <td>Docuseries, Reality TV</td>\n",
       "      <td>Feuds, flirtations and toilet talk go down amo...</td>\n",
       "    </tr>\n",
       "    <tr>\n",
       "      <th>4</th>\n",
       "      <td>s5</td>\n",
       "      <td>TV Show</td>\n",
       "      <td>Kota Factory</td>\n",
       "      <td>NaN</td>\n",
       "      <td>Mayur More, Jitendra Kumar, Ranjan Raj, Alam K...</td>\n",
       "      <td>India</td>\n",
       "      <td>September 24, 2021</td>\n",
       "      <td>2021</td>\n",
       "      <td>TV-MA</td>\n",
       "      <td>2 Seasons</td>\n",
       "      <td>International TV Shows, Romantic TV Shows, TV ...</td>\n",
       "      <td>In a city of coaching centers known to train I...</td>\n",
       "    </tr>\n",
       "  </tbody>\n",
       "</table>\n",
       "</div>"
      ],
      "text/plain": [
       "  show_id     type                  title         director  \\\n",
       "0      s1    Movie   Dick Johnson Is Dead  Kirsten Johnson   \n",
       "1      s2  TV Show          Blood & Water              NaN   \n",
       "2      s3  TV Show              Ganglands  Julien Leclercq   \n",
       "3      s4  TV Show  Jailbirds New Orleans              NaN   \n",
       "4      s5  TV Show           Kota Factory              NaN   \n",
       "\n",
       "                                                cast        country  \\\n",
       "0                                                NaN  United States   \n",
       "1  Ama Qamata, Khosi Ngema, Gail Mabalane, Thaban...   South Africa   \n",
       "2  Sami Bouajila, Tracy Gotoas, Samuel Jouy, Nabi...            NaN   \n",
       "3                                                NaN            NaN   \n",
       "4  Mayur More, Jitendra Kumar, Ranjan Raj, Alam K...          India   \n",
       "\n",
       "           date_added  release_year rating   duration  \\\n",
       "0  September 25, 2021          2020  PG-13     90 min   \n",
       "1  September 24, 2021          2021  TV-MA  2 Seasons   \n",
       "2  September 24, 2021          2021  TV-MA   1 Season   \n",
       "3  September 24, 2021          2021  TV-MA   1 Season   \n",
       "4  September 24, 2021          2021  TV-MA  2 Seasons   \n",
       "\n",
       "                                           listed_in  \\\n",
       "0                                      Documentaries   \n",
       "1    International TV Shows, TV Dramas, TV Mysteries   \n",
       "2  Crime TV Shows, International TV Shows, TV Act...   \n",
       "3                             Docuseries, Reality TV   \n",
       "4  International TV Shows, Romantic TV Shows, TV ...   \n",
       "\n",
       "                                         description  \n",
       "0  As her father nears the end of his life, filmm...  \n",
       "1  After crossing paths at a party, a Cape Town t...  \n",
       "2  To protect his family from a powerful drug lor...  \n",
       "3  Feuds, flirtations and toilet talk go down amo...  \n",
       "4  In a city of coaching centers known to train I...  "
      ]
     },
     "execution_count": 2,
     "metadata": {},
     "output_type": "execute_result"
    }
   ],
   "source": [
    "net=pd.read_csv('C:/Users/pavillion/Desktop/murali/netflix/netflix.txt')\n",
    "net.head()"
   ]
  },
  {
   "cell_type": "code",
   "execution_count": 3,
   "metadata": {
    "colab": {
     "base_uri": "https://localhost:8080/"
    },
    "id": "7245daeb",
    "outputId": "ca172b2d-ff14-48e5-d0ad-168e46518db8"
   },
   "outputs": [
    {
     "name": "stdout",
     "output_type": "stream",
     "text": [
      "<class 'pandas.core.frame.DataFrame'>\n",
      "RangeIndex: 8807 entries, 0 to 8806\n",
      "Data columns (total 12 columns):\n",
      " #   Column        Non-Null Count  Dtype \n",
      "---  ------        --------------  ----- \n",
      " 0   show_id       8807 non-null   object\n",
      " 1   type          8807 non-null   object\n",
      " 2   title         8807 non-null   object\n",
      " 3   director      6173 non-null   object\n",
      " 4   cast          7982 non-null   object\n",
      " 5   country       7976 non-null   object\n",
      " 6   date_added    8797 non-null   object\n",
      " 7   release_year  8807 non-null   int64 \n",
      " 8   rating        8803 non-null   object\n",
      " 9   duration      8804 non-null   object\n",
      " 10  listed_in     8807 non-null   object\n",
      " 11  description   8807 non-null   object\n",
      "dtypes: int64(1), object(11)\n",
      "memory usage: 825.8+ KB\n"
     ]
    }
   ],
   "source": [
    "net.info()"
   ]
  },
  {
   "cell_type": "code",
   "execution_count": 4,
   "metadata": {
    "colab": {
     "base_uri": "https://localhost:8080/",
     "height": 300
    },
    "id": "a3828f63",
    "outputId": "c94de003-ea8e-4fbb-b70b-245f7769236c"
   },
   "outputs": [
    {
     "data": {
      "text/html": [
       "<div>\n",
       "<style scoped>\n",
       "    .dataframe tbody tr th:only-of-type {\n",
       "        vertical-align: middle;\n",
       "    }\n",
       "\n",
       "    .dataframe tbody tr th {\n",
       "        vertical-align: top;\n",
       "    }\n",
       "\n",
       "    .dataframe thead th {\n",
       "        text-align: right;\n",
       "    }\n",
       "</style>\n",
       "<table border=\"1\" class=\"dataframe\">\n",
       "  <thead>\n",
       "    <tr style=\"text-align: right;\">\n",
       "      <th></th>\n",
       "      <th>release_year</th>\n",
       "    </tr>\n",
       "  </thead>\n",
       "  <tbody>\n",
       "    <tr>\n",
       "      <th>count</th>\n",
       "      <td>8807.000000</td>\n",
       "    </tr>\n",
       "    <tr>\n",
       "      <th>mean</th>\n",
       "      <td>2014.180198</td>\n",
       "    </tr>\n",
       "    <tr>\n",
       "      <th>std</th>\n",
       "      <td>8.819312</td>\n",
       "    </tr>\n",
       "    <tr>\n",
       "      <th>min</th>\n",
       "      <td>1925.000000</td>\n",
       "    </tr>\n",
       "    <tr>\n",
       "      <th>25%</th>\n",
       "      <td>2013.000000</td>\n",
       "    </tr>\n",
       "    <tr>\n",
       "      <th>50%</th>\n",
       "      <td>2017.000000</td>\n",
       "    </tr>\n",
       "    <tr>\n",
       "      <th>75%</th>\n",
       "      <td>2019.000000</td>\n",
       "    </tr>\n",
       "    <tr>\n",
       "      <th>max</th>\n",
       "      <td>2021.000000</td>\n",
       "    </tr>\n",
       "  </tbody>\n",
       "</table>\n",
       "</div>"
      ],
      "text/plain": [
       "       release_year\n",
       "count   8807.000000\n",
       "mean    2014.180198\n",
       "std        8.819312\n",
       "min     1925.000000\n",
       "25%     2013.000000\n",
       "50%     2017.000000\n",
       "75%     2019.000000\n",
       "max     2021.000000"
      ]
     },
     "execution_count": 4,
     "metadata": {},
     "output_type": "execute_result"
    }
   ],
   "source": [
    "net.describe()"
   ]
  },
  {
   "cell_type": "markdown",
   "metadata": {
    "id": "a039b25a"
   },
   "source": [
    "From above we can see that we have only one continous column `Duration`.\n",
    "\n",
    "We can take `release_year` as categorical and continous as it can be used to find the count of movies and TV shows.\n",
    "\n",
    "Hence we can convert all the columns into object type"
   ]
  },
  {
   "cell_type": "code",
   "execution_count": 5,
   "metadata": {
    "colab": {
     "base_uri": "https://localhost:8080/"
    },
    "id": "f69789f7",
    "outputId": "9c5121e5-3b94-4d27-bb2c-1ceab70ca31a"
   },
   "outputs": [
    {
     "name": "stdout",
     "output_type": "stream",
     "text": [
      "<class 'pandas.core.frame.DataFrame'>\n",
      "RangeIndex: 8807 entries, 0 to 8806\n",
      "Data columns (total 12 columns):\n",
      " #   Column        Non-Null Count  Dtype \n",
      "---  ------        --------------  ----- \n",
      " 0   show_id       8807 non-null   object\n",
      " 1   type          8807 non-null   object\n",
      " 2   title         8807 non-null   object\n",
      " 3   director      6173 non-null   object\n",
      " 4   cast          7982 non-null   object\n",
      " 5   country       7976 non-null   object\n",
      " 6   date_added    8797 non-null   object\n",
      " 7   release_year  8807 non-null   object\n",
      " 8   rating        8803 non-null   object\n",
      " 9   duration      8804 non-null   object\n",
      " 10  listed_in     8807 non-null   object\n",
      " 11  description   8807 non-null   object\n",
      "dtypes: object(12)\n",
      "memory usage: 825.8+ KB\n"
     ]
    }
   ],
   "source": [
    "net['release_year']=net['release_year'].astype('object')\n",
    "net.info()"
   ]
  },
  {
   "cell_type": "code",
   "execution_count": 6,
   "metadata": {
    "colab": {
     "base_uri": "https://localhost:8080/"
    },
    "id": "d36958a5",
    "outputId": "03f35b2e-5c22-44cb-8d3c-0b72386ae652"
   },
   "outputs": [
    {
     "data": {
      "text/plain": [
       "show_id          0.000000\n",
       "type             0.000000\n",
       "title            0.000000\n",
       "director        29.908028\n",
       "cast             9.367549\n",
       "country          9.435676\n",
       "date_added       0.113546\n",
       "release_year     0.000000\n",
       "rating           0.045418\n",
       "duration         0.034064\n",
       "listed_in        0.000000\n",
       "description      0.000000\n",
       "dtype: float64"
      ]
     },
     "execution_count": 6,
     "metadata": {},
     "output_type": "execute_result"
    }
   ],
   "source": [
    "net.isna().sum()/len(net)*100"
   ]
  },
  {
   "cell_type": "markdown",
   "metadata": {
    "id": "04791ccf"
   },
   "source": [
    "From above we can see the percentage of null values, in all the columns.\n",
    "\n",
    "Null values are extremely high in `director` column.\n",
    "\n",
    "Null values are almost non existent in columns:[`rating`,`duration`,`date_added`]"
   ]
  },
  {
   "cell_type": "code",
   "execution_count": 7,
   "metadata": {
    "colab": {
     "base_uri": "https://localhost:8080/"
    },
    "id": "ed958630",
    "outputId": "a4d9bbd4-d4ba-442a-c827-89b3e7507666"
   },
   "outputs": [
    {
     "name": "stdout",
     "output_type": "stream",
     "text": [
      "show_id 8807\n",
      "type 2\n",
      "title 8807\n",
      "director 4528\n",
      "cast 7692\n",
      "country 748\n",
      "date_added 1767\n",
      "release_year 74\n",
      "rating 17\n",
      "duration 220\n",
      "listed_in 514\n",
      "description 8775\n"
     ]
    }
   ],
   "source": [
    "for i in net.columns:\n",
    "    print(i,net[i].nunique())"
   ]
  },
  {
   "cell_type": "markdown",
   "metadata": {
    "id": "5fe26774"
   },
   "source": [
    "From above we can see that the columns [`show_id`,`title`] are unique and have no null values.\n",
    "\n",
    "So, we can start working on other columns"
   ]
  },
  {
   "cell_type": "code",
   "execution_count": 8,
   "metadata": {
    "colab": {
     "base_uri": "https://localhost:8080/"
    },
    "id": "9630da6b",
    "outputId": "77765210-2bb2-4bc2-fd2a-28b783bae66f"
   },
   "outputs": [
    {
     "data": {
      "text/plain": [
       "Movie      69.615079\n",
       "TV Show    30.384921\n",
       "Name: type, dtype: float64"
      ]
     },
     "execution_count": 8,
     "metadata": {},
     "output_type": "execute_result"
    }
   ],
   "source": [
    "net.type.value_counts(normalize=True)*100"
   ]
  },
  {
   "cell_type": "code",
   "execution_count": 9,
   "metadata": {
    "colab": {
     "base_uri": "https://localhost:8080/"
    },
    "id": "d492e39a",
    "outputId": "8c9699e7-2cc5-4f30-89b7-09369206e95a"
   },
   "outputs": [
    {
     "data": {
      "text/plain": [
       "0"
      ]
     },
     "execution_count": 9,
     "metadata": {},
     "output_type": "execute_result"
    }
   ],
   "source": [
    "net.type.isna().sum()"
   ]
  },
  {
   "cell_type": "markdown",
   "metadata": {
    "id": "81cf7f28"
   },
   "source": [
    "From here we can see that the data can be divided into two parts:\n",
    "\n",
    "It contains nearly 70% Movies and 30% TV Shows.\n",
    "\n",
    "It has no null values"
   ]
  },
  {
   "cell_type": "code",
   "execution_count": 10,
   "metadata": {
    "colab": {
     "base_uri": "https://localhost:8080/"
    },
    "id": "630141cb",
    "outputId": "00eed449-3f39-4d2c-cefd-fdb06671cf3a"
   },
   "outputs": [
    {
     "data": {
      "text/plain": [
       "Rajiv Chilaka                     19\n",
       "Raúl Campos, Jan Suter            18\n",
       "Marcus Raboy                      16\n",
       "Suhas Kadav                       16\n",
       "Jay Karas                         14\n",
       "                                  ..\n",
       "Raymie Muzquiz, Stu Livingston     1\n",
       "Joe Menendez                       1\n",
       "Eric Bross                         1\n",
       "Will Eisenberg                     1\n",
       "Mozez Singh                        1\n",
       "Name: director, Length: 4528, dtype: int64"
      ]
     },
     "execution_count": 10,
     "metadata": {},
     "output_type": "execute_result"
    }
   ],
   "source": [
    "net.director.value_counts()"
   ]
  },
  {
   "cell_type": "code",
   "execution_count": 11,
   "metadata": {
    "colab": {
     "base_uri": "https://localhost:8080/"
    },
    "id": "2a140f6a",
    "outputId": "d0766460-87a9-4bfd-fc7d-b20b1da7831f"
   },
   "outputs": [
    {
     "data": {
      "text/plain": [
       "2634"
      ]
     },
     "execution_count": 11,
     "metadata": {},
     "output_type": "execute_result"
    }
   ],
   "source": [
    "net.director.isna().sum()"
   ]
  },
  {
   "cell_type": "markdown",
   "metadata": {
    "id": "f42f41ed"
   },
   "source": [
    "The `Director` column is a nested column and has null values."
   ]
  },
  {
   "cell_type": "code",
   "execution_count": 12,
   "metadata": {
    "colab": {
     "base_uri": "https://localhost:8080/"
    },
    "id": "d230e853",
    "outputId": "e49ef5fd-e1e0-46bd-ee64-5e3bcc2ff117"
   },
   "outputs": [
    {
     "data": {
      "text/plain": [
       "David Attenborough                                                                                                                                                                            19\n",
       "Vatsal Dubey, Julie Tejwani, Rupa Bhimani, Jigna Bhardwaj, Rajesh Kava, Mousam, Swapnil                                                                                                       14\n",
       "Samuel West                                                                                                                                                                                   10\n",
       "Jeff Dunham                                                                                                                                                                                    7\n",
       "David Spade, London Hughes, Fortune Feimster                                                                                                                                                   6\n",
       "                                                                                                                                                                                              ..\n",
       "Michael Peña, Diego Luna, Tenoch Huerta, Joaquin Cosio, José María Yazpik, Matt Letscher, Alyssa Diaz                                                                                          1\n",
       "Nick Lachey, Vanessa Lachey                                                                                                                                                                    1\n",
       "Takeru Sato, Kasumi Arimura, Haru, Kentaro Sakaguchi, Takayuki Yamada, Kendo Kobayashi, Ken Yasuda, Arata Furuta, Suzuki Matsuo, Koichi Yamadera, Arata Iura, Chikako Kaku, Kotaro Yoshida     1\n",
       "Toyin Abraham, Sambasa Nzeribe, Chioma Chukwuka Akpotha, Chioma Omeruah, Chiwetalu Agu, Dele Odule, Femi Adebayo, Bayray McNwizu, Biodun Stephen                                               1\n",
       "Vicky Kaushal, Sarah-Jane Dias, Raaghav Chanana, Manish Chaudhary, Meghna Malik, Malkeet Rauni, Anita Shabdish, Chittaranjan Tripathy                                                          1\n",
       "Name: cast, Length: 7692, dtype: int64"
      ]
     },
     "execution_count": 12,
     "metadata": {},
     "output_type": "execute_result"
    }
   ],
   "source": [
    "net.cast.value_counts()"
   ]
  },
  {
   "cell_type": "code",
   "execution_count": 13,
   "metadata": {
    "colab": {
     "base_uri": "https://localhost:8080/"
    },
    "id": "8df41afd",
    "outputId": "540784a0-6777-4a66-feaa-b5f51645079c"
   },
   "outputs": [
    {
     "data": {
      "text/plain": [
       "825"
      ]
     },
     "execution_count": 13,
     "metadata": {},
     "output_type": "execute_result"
    }
   ],
   "source": [
    "net.cast.isna().sum()"
   ]
  },
  {
   "cell_type": "markdown",
   "metadata": {
    "id": "9a6cf4f0"
   },
   "source": [
    "The `cast` column also has both null values and nested values"
   ]
  },
  {
   "cell_type": "code",
   "execution_count": 14,
   "metadata": {
    "colab": {
     "base_uri": "https://localhost:8080/"
    },
    "id": "2f3ab00a",
    "outputId": "0c70e2d9-8e7a-480a-a46b-bded1ec09603"
   },
   "outputs": [
    {
     "data": {
      "text/plain": [
       "United States                             2818\n",
       "India                                      972\n",
       "United Kingdom                             419\n",
       "Japan                                      245\n",
       "South Korea                                199\n",
       "                                          ... \n",
       "Romania, Bulgaria, Hungary                   1\n",
       "Uruguay, Guatemala                           1\n",
       "France, Senegal, Belgium                     1\n",
       "Mexico, United States, Spain, Colombia       1\n",
       "United Arab Emirates, Jordan                 1\n",
       "Name: country, Length: 748, dtype: int64"
      ]
     },
     "execution_count": 14,
     "metadata": {},
     "output_type": "execute_result"
    }
   ],
   "source": [
    "net.country.value_counts()"
   ]
  },
  {
   "cell_type": "code",
   "execution_count": 15,
   "metadata": {
    "colab": {
     "base_uri": "https://localhost:8080/"
    },
    "id": "4739dd21",
    "outputId": "0b6db707-3fb3-41b4-ec6e-cfefae54cfaf"
   },
   "outputs": [
    {
     "data": {
      "text/plain": [
       "831"
      ]
     },
     "execution_count": 15,
     "metadata": {},
     "output_type": "execute_result"
    }
   ],
   "source": [
    "net.country.isna().sum()"
   ]
  },
  {
   "cell_type": "markdown",
   "metadata": {
    "id": "3522418a"
   },
   "source": [
    "The column `country` also has both nested values and null values"
   ]
  },
  {
   "cell_type": "code",
   "execution_count": 16,
   "metadata": {
    "colab": {
     "base_uri": "https://localhost:8080/"
    },
    "id": "1d5bb08b",
    "outputId": "87e68442-c638-4ade-8f44-45a5de3c99f4"
   },
   "outputs": [
    {
     "data": {
      "text/plain": [
       "January 1, 2020      109\n",
       "November 1, 2019      89\n",
       "March 1, 2018         75\n",
       "December 31, 2019     74\n",
       "October 1, 2018       71\n",
       "                    ... \n",
       "December 4, 2016       1\n",
       "November 21, 2016      1\n",
       "November 19, 2016      1\n",
       "November 17, 2016      1\n",
       "January 11, 2020       1\n",
       "Name: date_added, Length: 1767, dtype: int64"
      ]
     },
     "execution_count": 16,
     "metadata": {},
     "output_type": "execute_result"
    }
   ],
   "source": [
    "net.date_added.value_counts()"
   ]
  },
  {
   "cell_type": "code",
   "execution_count": 17,
   "metadata": {
    "colab": {
     "base_uri": "https://localhost:8080/"
    },
    "id": "c9f4948d",
    "outputId": "81a3a7bb-c8f1-4c19-a582-61dd3f4666da"
   },
   "outputs": [
    {
     "data": {
      "text/plain": [
       "10"
      ]
     },
     "execution_count": 17,
     "metadata": {},
     "output_type": "execute_result"
    }
   ],
   "source": [
    "net.date_added.isna().sum()"
   ]
  },
  {
   "cell_type": "markdown",
   "metadata": {
    "id": "572d55fc"
   },
   "source": [
    "The column `date_added` has null values."
   ]
  },
  {
   "cell_type": "code",
   "execution_count": 18,
   "metadata": {
    "colab": {
     "base_uri": "https://localhost:8080/"
    },
    "id": "d86c7385",
    "outputId": "af75050d-4bd0-485c-eca1-151ab3c830b4"
   },
   "outputs": [
    {
     "data": {
      "text/plain": [
       "2018    1147\n",
       "2017    1032\n",
       "2019    1030\n",
       "2020     953\n",
       "2016     902\n",
       "        ... \n",
       "1959       1\n",
       "1925       1\n",
       "1961       1\n",
       "1947       1\n",
       "1966       1\n",
       "Name: release_year, Length: 74, dtype: int64"
      ]
     },
     "execution_count": 18,
     "metadata": {},
     "output_type": "execute_result"
    }
   ],
   "source": [
    "net.release_year.value_counts()"
   ]
  },
  {
   "cell_type": "code",
   "execution_count": 19,
   "metadata": {
    "colab": {
     "base_uri": "https://localhost:8080/"
    },
    "id": "dbf15dc9",
    "outputId": "ffe82445-450d-4edc-893f-0a29ec325158"
   },
   "outputs": [
    {
     "data": {
      "text/plain": [
       "0"
      ]
     },
     "execution_count": 19,
     "metadata": {},
     "output_type": "execute_result"
    }
   ],
   "source": [
    "net.release_year.isna().sum()"
   ]
  },
  {
   "cell_type": "markdown",
   "metadata": {
    "id": "40196862"
   },
   "source": [
    "The column `release_year` has no null values"
   ]
  },
  {
   "cell_type": "code",
   "execution_count": 20,
   "metadata": {
    "colab": {
     "base_uri": "https://localhost:8080/"
    },
    "id": "ff20a58c",
    "outputId": "3666d7c0-6e83-484f-f836-ca79694b1339"
   },
   "outputs": [
    {
     "data": {
      "text/plain": [
       "TV-MA       3207\n",
       "TV-14       2160\n",
       "TV-PG        863\n",
       "R            799\n",
       "PG-13        490\n",
       "TV-Y7        334\n",
       "TV-Y         307\n",
       "PG           287\n",
       "TV-G         220\n",
       "NR            80\n",
       "G             41\n",
       "TV-Y7-FV       6\n",
       "NC-17          3\n",
       "UR             3\n",
       "74 min         1\n",
       "84 min         1\n",
       "66 min         1\n",
       "Name: rating, dtype: int64"
      ]
     },
     "execution_count": 20,
     "metadata": {},
     "output_type": "execute_result"
    }
   ],
   "source": [
    "net.rating.value_counts()"
   ]
  },
  {
   "cell_type": "markdown",
   "metadata": {
    "id": "61fd5df9"
   },
   "source": [
    "From above we can see that the values [`74 min`,`84 min`, `66 min`] should not be in the column `rating`"
   ]
  },
  {
   "cell_type": "code",
   "execution_count": 21,
   "metadata": {
    "colab": {
     "base_uri": "https://localhost:8080/"
    },
    "id": "5ba7c882",
    "outputId": "7ad7c718-eb90-4519-cf7d-18339e36c170"
   },
   "outputs": [
    {
     "data": {
      "text/plain": [
       "4"
      ]
     },
     "execution_count": 21,
     "metadata": {},
     "output_type": "execute_result"
    }
   ],
   "source": [
    "net.rating.isna().sum()"
   ]
  },
  {
   "cell_type": "markdown",
   "metadata": {
    "id": "d4d13211"
   },
   "source": [
    "From above we can see that column `rating` has values from other columns and also null values."
   ]
  },
  {
   "cell_type": "code",
   "execution_count": 22,
   "metadata": {
    "colab": {
     "base_uri": "https://localhost:8080/"
    },
    "id": "e054de2b",
    "outputId": "86415841-6b60-4d52-d07f-f20742b909c2"
   },
   "outputs": [
    {
     "data": {
      "text/plain": [
       "1 Season     1793\n",
       "2 Seasons     425\n",
       "3 Seasons     199\n",
       "90 min        152\n",
       "94 min        146\n",
       "             ... \n",
       "16 min          1\n",
       "186 min         1\n",
       "193 min         1\n",
       "189 min         1\n",
       "191 min         1\n",
       "Name: duration, Length: 220, dtype: int64"
      ]
     },
     "execution_count": 22,
     "metadata": {},
     "output_type": "execute_result"
    }
   ],
   "source": [
    "net.duration.value_counts()"
   ]
  },
  {
   "cell_type": "code",
   "execution_count": 23,
   "metadata": {
    "colab": {
     "base_uri": "https://localhost:8080/"
    },
    "id": "3f77d6c0",
    "outputId": "6e80f639-107b-4583-f23f-63a2243ce7e7"
   },
   "outputs": [
    {
     "data": {
      "text/plain": [
       "3"
      ]
     },
     "execution_count": 23,
     "metadata": {},
     "output_type": "execute_result"
    }
   ],
   "source": [
    "net.duration.isna().sum()"
   ]
  },
  {
   "cell_type": "markdown",
   "metadata": {
    "id": "25d6e952"
   },
   "source": [
    "We have 3 null values in `duration` column"
   ]
  },
  {
   "cell_type": "code",
   "execution_count": 24,
   "metadata": {
    "colab": {
     "base_uri": "https://localhost:8080/"
    },
    "id": "7ef40adb",
    "outputId": "42a5f223-7907-4553-8bfa-081b5087bba5"
   },
   "outputs": [
    {
     "data": {
      "text/plain": [
       "0"
      ]
     },
     "execution_count": 24,
     "metadata": {},
     "output_type": "execute_result"
    }
   ],
   "source": [
    "net.listed_in.isna().sum()"
   ]
  },
  {
   "cell_type": "code",
   "execution_count": 25,
   "metadata": {
    "colab": {
     "base_uri": "https://localhost:8080/"
    },
    "id": "b3b457b0",
    "outputId": "9425ae2e-3ae7-4566-b667-c493229b20f7"
   },
   "outputs": [
    {
     "data": {
      "text/plain": [
       "Dramas, International Movies                          362\n",
       "Documentaries                                         359\n",
       "Stand-Up Comedy                                       334\n",
       "Comedies, Dramas, International Movies                274\n",
       "Dramas, Independent Movies, International Movies      252\n",
       "                                                     ... \n",
       "Kids' TV, TV Action & Adventure, TV Dramas              1\n",
       "TV Comedies, TV Dramas, TV Horror                       1\n",
       "Children & Family Movies, Comedies, LGBTQ Movies        1\n",
       "Kids' TV, Spanish-Language TV Shows, Teen TV Shows      1\n",
       "Cult Movies, Dramas, Thrillers                          1\n",
       "Name: listed_in, Length: 514, dtype: int64"
      ]
     },
     "execution_count": 25,
     "metadata": {},
     "output_type": "execute_result"
    }
   ],
   "source": [
    "net.listed_in.value_counts()"
   ]
  },
  {
   "cell_type": "markdown",
   "metadata": {
    "id": "369f76c4"
   },
   "source": [
    "The column `listed_in` has no null values."
   ]
  },
  {
   "cell_type": "code",
   "execution_count": 26,
   "metadata": {
    "colab": {
     "base_uri": "https://localhost:8080/"
    },
    "id": "3990bf6e",
    "outputId": "9b5e2ac4-b573-4e94-e7ac-88724359210b"
   },
   "outputs": [
    {
     "data": {
      "text/plain": [
       "Paranormal activity at a lush, abandoned property alarms a group eager to redevelop the site, but the eerie events may not be as unearthly as they think.    4\n",
       "Challenged to compose 100 songs before he can marry the girl he loves, a tortured but passionate singer-songwriter embarks on a poignant musical journey.    3\n",
       "A surly septuagenarian gets another chance at her 20s after having her photo snapped at a studio that magically takes 50 years off her life.                 3\n",
       "Multiple women report their husbands as missing but when it appears they are looking for the same man, a police officer traces their cryptic connection.     3\n",
       "Secrets bubble to the surface after a sensual encounter and an unforeseen crime entangle two friends and a woman caught between them.                        2\n",
       "                                                                                                                                                            ..\n",
       "Sent away to evade an arranged marriage, a 14-year-old begins a harrowing journey of sex work and poverty in the slums of Accra.                             1\n",
       "When his partner in crime goes missing, a small-time crook’s life is transformed as he dedicates himself to raising the daughter his friend left behind.     1\n",
       "During 1962’s Cuban missile crisis, a troubled math genius finds himself drafted to play in a U.S.-Soviet chess match – and a deadly game of espionage.      1\n",
       "A teen's discovery of a vintage Polaroid camera develops into a darker tale when she finds that whoever takes their photo with it dies soon afterward.       1\n",
       "A scrappy but poor boy worms his way into a tycoon's dysfunctional family, while facing his fear of music and the truth about his past.                      1\n",
       "Name: description, Length: 8775, dtype: int64"
      ]
     },
     "execution_count": 26,
     "metadata": {},
     "output_type": "execute_result"
    }
   ],
   "source": [
    "net.description.value_counts()"
   ]
  },
  {
   "cell_type": "code",
   "execution_count": 27,
   "metadata": {
    "colab": {
     "base_uri": "https://localhost:8080/"
    },
    "id": "850707d4",
    "outputId": "57a74a44-2062-4325-b179-8daed553ddae"
   },
   "outputs": [
    {
     "data": {
      "text/plain": [
       "0"
      ]
     },
     "execution_count": 27,
     "metadata": {},
     "output_type": "execute_result"
    }
   ],
   "source": [
    "net.description.isna().sum()"
   ]
  },
  {
   "cell_type": "code",
   "execution_count": 28,
   "metadata": {
    "colab": {
     "base_uri": "https://localhost:8080/",
     "height": 239
    },
    "id": "3743e714",
    "outputId": "12162f1b-367c-4f15-b187-602ffbd28b16"
   },
   "outputs": [
    {
     "data": {
      "text/html": [
       "<div>\n",
       "<style scoped>\n",
       "    .dataframe tbody tr th:only-of-type {\n",
       "        vertical-align: middle;\n",
       "    }\n",
       "\n",
       "    .dataframe tbody tr th {\n",
       "        vertical-align: top;\n",
       "    }\n",
       "\n",
       "    .dataframe thead th {\n",
       "        text-align: right;\n",
       "    }\n",
       "</style>\n",
       "<table border=\"1\" class=\"dataframe\">\n",
       "  <thead>\n",
       "    <tr style=\"text-align: right;\">\n",
       "      <th></th>\n",
       "      <th>show_id</th>\n",
       "      <th>type</th>\n",
       "      <th>title</th>\n",
       "      <th>director</th>\n",
       "      <th>cast</th>\n",
       "      <th>country</th>\n",
       "      <th>date_added</th>\n",
       "      <th>release_year</th>\n",
       "      <th>rating</th>\n",
       "      <th>duration</th>\n",
       "      <th>listed_in</th>\n",
       "      <th>description</th>\n",
       "    </tr>\n",
       "  </thead>\n",
       "  <tbody>\n",
       "    <tr>\n",
       "      <th>5541</th>\n",
       "      <td>s5542</td>\n",
       "      <td>Movie</td>\n",
       "      <td>Louis C.K. 2017</td>\n",
       "      <td>Louis C.K.</td>\n",
       "      <td>Louis C.K.</td>\n",
       "      <td>United States</td>\n",
       "      <td>April 4, 2017</td>\n",
       "      <td>2017</td>\n",
       "      <td>74 min</td>\n",
       "      <td>NaN</td>\n",
       "      <td>Movies</td>\n",
       "      <td>Louis C.K. muses on religion, eternal love, gi...</td>\n",
       "    </tr>\n",
       "    <tr>\n",
       "      <th>5794</th>\n",
       "      <td>s5795</td>\n",
       "      <td>Movie</td>\n",
       "      <td>Louis C.K.: Hilarious</td>\n",
       "      <td>Louis C.K.</td>\n",
       "      <td>Louis C.K.</td>\n",
       "      <td>United States</td>\n",
       "      <td>September 16, 2016</td>\n",
       "      <td>2010</td>\n",
       "      <td>84 min</td>\n",
       "      <td>NaN</td>\n",
       "      <td>Movies</td>\n",
       "      <td>Emmy-winning comedy writer Louis C.K. brings h...</td>\n",
       "    </tr>\n",
       "    <tr>\n",
       "      <th>5813</th>\n",
       "      <td>s5814</td>\n",
       "      <td>Movie</td>\n",
       "      <td>Louis C.K.: Live at the Comedy Store</td>\n",
       "      <td>Louis C.K.</td>\n",
       "      <td>Louis C.K.</td>\n",
       "      <td>United States</td>\n",
       "      <td>August 15, 2016</td>\n",
       "      <td>2015</td>\n",
       "      <td>66 min</td>\n",
       "      <td>NaN</td>\n",
       "      <td>Movies</td>\n",
       "      <td>The comic puts his trademark hilarious/thought...</td>\n",
       "    </tr>\n",
       "  </tbody>\n",
       "</table>\n",
       "</div>"
      ],
      "text/plain": [
       "     show_id   type                                 title    director  \\\n",
       "5541   s5542  Movie                       Louis C.K. 2017  Louis C.K.   \n",
       "5794   s5795  Movie                 Louis C.K.: Hilarious  Louis C.K.   \n",
       "5813   s5814  Movie  Louis C.K.: Live at the Comedy Store  Louis C.K.   \n",
       "\n",
       "            cast        country          date_added release_year  rating  \\\n",
       "5541  Louis C.K.  United States       April 4, 2017         2017  74 min   \n",
       "5794  Louis C.K.  United States  September 16, 2016         2010  84 min   \n",
       "5813  Louis C.K.  United States     August 15, 2016         2015  66 min   \n",
       "\n",
       "     duration listed_in                                        description  \n",
       "5541      NaN    Movies  Louis C.K. muses on religion, eternal love, gi...  \n",
       "5794      NaN    Movies  Emmy-winning comedy writer Louis C.K. brings h...  \n",
       "5813      NaN    Movies  The comic puts his trademark hilarious/thought...  "
      ]
     },
     "execution_count": 28,
     "metadata": {},
     "output_type": "execute_result"
    }
   ],
   "source": [
    "net[(net['rating']=='74 min')|(net['rating']=='84 min')|(net['rating']=='66 min')]"
   ]
  },
  {
   "cell_type": "code",
   "execution_count": 29,
   "metadata": {
    "id": "6405d570"
   },
   "outputs": [],
   "source": [
    "net.loc[5541,['rating','duration']]=net.loc[5541,['duration','rating']].values\n",
    "net.loc[5794,['rating','duration']]=net.loc[5794,['duration','rating']].values\n",
    "net.loc[5813,['rating','duration']]=net.loc[5813,['duration','rating']].values"
   ]
  },
  {
   "cell_type": "code",
   "execution_count": 30,
   "metadata": {
    "colab": {
     "base_uri": "https://localhost:8080/"
    },
    "id": "06283a9a",
    "outputId": "a044ccc2-a8d7-4f80-f681-aa0b3ad85e7b"
   },
   "outputs": [
    {
     "data": {
      "text/plain": [
       "TV-MA       3207\n",
       "TV-14       2160\n",
       "TV-PG        863\n",
       "R            799\n",
       "PG-13        490\n",
       "TV-Y7        334\n",
       "TV-Y         307\n",
       "PG           287\n",
       "TV-G         220\n",
       "NR            80\n",
       "G             41\n",
       "TV-Y7-FV       6\n",
       "NC-17          3\n",
       "UR             3\n",
       "Name: rating, dtype: int64"
      ]
     },
     "execution_count": 30,
     "metadata": {},
     "output_type": "execute_result"
    }
   ],
   "source": [
    "net.rating.value_counts()"
   ]
  },
  {
   "cell_type": "markdown",
   "metadata": {
    "id": "c4296997"
   },
   "source": [
    "Since there are three values in rating with minutes corresponding to 3 null values in duration, I tried to swap them."
   ]
  },
  {
   "cell_type": "code",
   "execution_count": 31,
   "metadata": {
    "colab": {
     "base_uri": "https://localhost:8080/"
    },
    "id": "050a5e11",
    "outputId": "9dac079d-4ef6-4aef-958c-4e9f2ad04431"
   },
   "outputs": [
    {
     "data": {
      "text/plain": [
       "0"
      ]
     },
     "execution_count": 31,
     "metadata": {},
     "output_type": "execute_result"
    }
   ],
   "source": [
    "net.duration.isna().sum()"
   ]
  },
  {
   "cell_type": "code",
   "execution_count": 32,
   "metadata": {
    "colab": {
     "base_uri": "https://localhost:8080/"
    },
    "id": "1c9774f8",
    "outputId": "21464bbd-1a35-4007-eea7-b643ddf4ce50"
   },
   "outputs": [
    {
     "data": {
      "text/plain": [
       "array(['PG-13', 'TV-MA', 'PG', 'TV-14', 'TV-PG', 'TV-Y', 'TV-Y7', 'R',\n",
       "       'TV-G', 'G', 'NC-17', nan, 'NR', 'TV-Y7-FV', 'UR'], dtype=object)"
      ]
     },
     "execution_count": 32,
     "metadata": {},
     "output_type": "execute_result"
    }
   ],
   "source": [
    "net.rating.unique()"
   ]
  },
  {
   "cell_type": "code",
   "execution_count": 33,
   "metadata": {
    "id": "574562de"
   },
   "outputs": [],
   "source": [
    "net.rating.fillna('NR',inplace=True)"
   ]
  },
  {
   "cell_type": "code",
   "execution_count": 34,
   "metadata": {
    "colab": {
     "base_uri": "https://localhost:8080/"
    },
    "id": "b2a5c8f2",
    "outputId": "38f1a9a4-f981-4de9-a183-6e8d00d0b0b3"
   },
   "outputs": [
    {
     "data": {
      "text/plain": [
       "0"
      ]
     },
     "execution_count": 34,
     "metadata": {},
     "output_type": "execute_result"
    }
   ],
   "source": [
    "net.rating.isna().sum()"
   ]
  },
  {
   "cell_type": "markdown",
   "metadata": {
    "id": "2f87cd6b"
   },
   "source": [
    "In `Rating` column, we have rating `NR`, since `NR` means `No Rating`. \n",
    "\n",
    "I replaced null values in `rating` column with `NR`"
   ]
  },
  {
   "cell_type": "code",
   "execution_count": 35,
   "metadata": {
    "colab": {
     "base_uri": "https://localhost:8080/"
    },
    "id": "fbde4333",
    "outputId": "a3fd1ea5-f994-4896-8bc1-95247514fd44"
   },
   "outputs": [
    {
     "data": {
      "text/plain": [
       "January 1, 2020      109\n",
       "November 1, 2019      89\n",
       "March 1, 2018         75\n",
       "December 31, 2019     74\n",
       "October 1, 2018       71\n",
       "                    ... \n",
       "December 4, 2016       1\n",
       "November 21, 2016      1\n",
       "November 19, 2016      1\n",
       "November 17, 2016      1\n",
       "January 11, 2020       1\n",
       "Name: date_added, Length: 1767, dtype: int64"
      ]
     },
     "execution_count": 35,
     "metadata": {},
     "output_type": "execute_result"
    }
   ],
   "source": [
    "net.date_added.value_counts()"
   ]
  },
  {
   "cell_type": "code",
   "execution_count": 36,
   "metadata": {
    "colab": {
     "base_uri": "https://localhost:8080/",
     "height": 650
    },
    "id": "80e2af9d",
    "outputId": "36f5fc5c-bbed-426e-cd28-4b2309dc271e",
    "scrolled": true
   },
   "outputs": [
    {
     "data": {
      "text/html": [
       "<div>\n",
       "<style scoped>\n",
       "    .dataframe tbody tr th:only-of-type {\n",
       "        vertical-align: middle;\n",
       "    }\n",
       "\n",
       "    .dataframe tbody tr th {\n",
       "        vertical-align: top;\n",
       "    }\n",
       "\n",
       "    .dataframe thead th {\n",
       "        text-align: right;\n",
       "    }\n",
       "</style>\n",
       "<table border=\"1\" class=\"dataframe\">\n",
       "  <thead>\n",
       "    <tr style=\"text-align: right;\">\n",
       "      <th></th>\n",
       "      <th>show_id</th>\n",
       "      <th>type</th>\n",
       "      <th>title</th>\n",
       "      <th>director</th>\n",
       "      <th>cast</th>\n",
       "      <th>country</th>\n",
       "      <th>date_added</th>\n",
       "      <th>release_year</th>\n",
       "      <th>rating</th>\n",
       "      <th>duration</th>\n",
       "      <th>listed_in</th>\n",
       "      <th>description</th>\n",
       "    </tr>\n",
       "  </thead>\n",
       "  <tbody>\n",
       "    <tr>\n",
       "      <th>6066</th>\n",
       "      <td>s6067</td>\n",
       "      <td>TV Show</td>\n",
       "      <td>A Young Doctor's Notebook and Other Stories</td>\n",
       "      <td>NaN</td>\n",
       "      <td>Daniel Radcliffe, Jon Hamm, Adam Godley, Chris...</td>\n",
       "      <td>United Kingdom</td>\n",
       "      <td>NaN</td>\n",
       "      <td>2013</td>\n",
       "      <td>TV-MA</td>\n",
       "      <td>2 Seasons</td>\n",
       "      <td>British TV Shows, TV Comedies, TV Dramas</td>\n",
       "      <td>Set during the Russian Revolution, this comic ...</td>\n",
       "    </tr>\n",
       "    <tr>\n",
       "      <th>6174</th>\n",
       "      <td>s6175</td>\n",
       "      <td>TV Show</td>\n",
       "      <td>Anthony Bourdain: Parts Unknown</td>\n",
       "      <td>NaN</td>\n",
       "      <td>Anthony Bourdain</td>\n",
       "      <td>United States</td>\n",
       "      <td>NaN</td>\n",
       "      <td>2018</td>\n",
       "      <td>TV-PG</td>\n",
       "      <td>5 Seasons</td>\n",
       "      <td>Docuseries</td>\n",
       "      <td>This CNN original series has chef Anthony Bour...</td>\n",
       "    </tr>\n",
       "    <tr>\n",
       "      <th>6795</th>\n",
       "      <td>s6796</td>\n",
       "      <td>TV Show</td>\n",
       "      <td>Frasier</td>\n",
       "      <td>NaN</td>\n",
       "      <td>Kelsey Grammer, Jane Leeves, David Hyde Pierce...</td>\n",
       "      <td>United States</td>\n",
       "      <td>NaN</td>\n",
       "      <td>2003</td>\n",
       "      <td>TV-PG</td>\n",
       "      <td>11 Seasons</td>\n",
       "      <td>Classic &amp; Cult TV, TV Comedies</td>\n",
       "      <td>Frasier Crane is a snooty but lovable Seattle ...</td>\n",
       "    </tr>\n",
       "    <tr>\n",
       "      <th>6806</th>\n",
       "      <td>s6807</td>\n",
       "      <td>TV Show</td>\n",
       "      <td>Friends</td>\n",
       "      <td>NaN</td>\n",
       "      <td>Jennifer Aniston, Courteney Cox, Lisa Kudrow, ...</td>\n",
       "      <td>United States</td>\n",
       "      <td>NaN</td>\n",
       "      <td>2003</td>\n",
       "      <td>TV-14</td>\n",
       "      <td>10 Seasons</td>\n",
       "      <td>Classic &amp; Cult TV, TV Comedies</td>\n",
       "      <td>This hit sitcom follows the merry misadventure...</td>\n",
       "    </tr>\n",
       "    <tr>\n",
       "      <th>6901</th>\n",
       "      <td>s6902</td>\n",
       "      <td>TV Show</td>\n",
       "      <td>Gunslinger Girl</td>\n",
       "      <td>NaN</td>\n",
       "      <td>Yuuka Nanri, Kanako Mitsuhashi, Eri Sendai, Am...</td>\n",
       "      <td>Japan</td>\n",
       "      <td>NaN</td>\n",
       "      <td>2008</td>\n",
       "      <td>TV-14</td>\n",
       "      <td>2 Seasons</td>\n",
       "      <td>Anime Series, Crime TV Shows</td>\n",
       "      <td>On the surface, the Social Welfare Agency appe...</td>\n",
       "    </tr>\n",
       "    <tr>\n",
       "      <th>7196</th>\n",
       "      <td>s7197</td>\n",
       "      <td>TV Show</td>\n",
       "      <td>Kikoriki</td>\n",
       "      <td>NaN</td>\n",
       "      <td>Igor Dmitriev</td>\n",
       "      <td>NaN</td>\n",
       "      <td>NaN</td>\n",
       "      <td>2010</td>\n",
       "      <td>TV-Y</td>\n",
       "      <td>2 Seasons</td>\n",
       "      <td>Kids' TV</td>\n",
       "      <td>A wacky rabbit and his gang of animal pals hav...</td>\n",
       "    </tr>\n",
       "    <tr>\n",
       "      <th>7254</th>\n",
       "      <td>s7255</td>\n",
       "      <td>TV Show</td>\n",
       "      <td>La Familia P. Luche</td>\n",
       "      <td>NaN</td>\n",
       "      <td>Eugenio Derbez, Consuelo Duval, Luis Manuel Áv...</td>\n",
       "      <td>United States</td>\n",
       "      <td>NaN</td>\n",
       "      <td>2012</td>\n",
       "      <td>TV-14</td>\n",
       "      <td>3 Seasons</td>\n",
       "      <td>International TV Shows, Spanish-Language TV Sh...</td>\n",
       "      <td>This irreverent sitcom featues Ludovico, Feder...</td>\n",
       "    </tr>\n",
       "    <tr>\n",
       "      <th>7406</th>\n",
       "      <td>s7407</td>\n",
       "      <td>TV Show</td>\n",
       "      <td>Maron</td>\n",
       "      <td>NaN</td>\n",
       "      <td>Marc Maron, Judd Hirsch, Josh Brener, Nora Zeh...</td>\n",
       "      <td>United States</td>\n",
       "      <td>NaN</td>\n",
       "      <td>2016</td>\n",
       "      <td>TV-MA</td>\n",
       "      <td>4 Seasons</td>\n",
       "      <td>TV Comedies</td>\n",
       "      <td>Marc Maron stars as Marc Maron, who interviews...</td>\n",
       "    </tr>\n",
       "    <tr>\n",
       "      <th>7847</th>\n",
       "      <td>s7848</td>\n",
       "      <td>TV Show</td>\n",
       "      <td>Red vs. Blue</td>\n",
       "      <td>NaN</td>\n",
       "      <td>Burnie Burns, Jason Saldaña, Gustavo Sorola, G...</td>\n",
       "      <td>United States</td>\n",
       "      <td>NaN</td>\n",
       "      <td>2015</td>\n",
       "      <td>NR</td>\n",
       "      <td>13 Seasons</td>\n",
       "      <td>TV Action &amp; Adventure, TV Comedies, TV Sci-Fi ...</td>\n",
       "      <td>This parody of first-person shooter games, mil...</td>\n",
       "    </tr>\n",
       "    <tr>\n",
       "      <th>8182</th>\n",
       "      <td>s8183</td>\n",
       "      <td>TV Show</td>\n",
       "      <td>The Adventures of Figaro Pho</td>\n",
       "      <td>NaN</td>\n",
       "      <td>Luke Jurevicius, Craig Behenna, Charlotte Haml...</td>\n",
       "      <td>Australia</td>\n",
       "      <td>NaN</td>\n",
       "      <td>2015</td>\n",
       "      <td>TV-Y7</td>\n",
       "      <td>2 Seasons</td>\n",
       "      <td>Kids' TV, TV Comedies</td>\n",
       "      <td>Imagine your worst fears, then multiply them: ...</td>\n",
       "    </tr>\n",
       "  </tbody>\n",
       "</table>\n",
       "</div>"
      ],
      "text/plain": [
       "     show_id     type                                        title director  \\\n",
       "6066   s6067  TV Show  A Young Doctor's Notebook and Other Stories      NaN   \n",
       "6174   s6175  TV Show              Anthony Bourdain: Parts Unknown      NaN   \n",
       "6795   s6796  TV Show                                      Frasier      NaN   \n",
       "6806   s6807  TV Show                                      Friends      NaN   \n",
       "6901   s6902  TV Show                              Gunslinger Girl      NaN   \n",
       "7196   s7197  TV Show                                     Kikoriki      NaN   \n",
       "7254   s7255  TV Show                          La Familia P. Luche      NaN   \n",
       "7406   s7407  TV Show                                        Maron      NaN   \n",
       "7847   s7848  TV Show                                 Red vs. Blue      NaN   \n",
       "8182   s8183  TV Show                 The Adventures of Figaro Pho      NaN   \n",
       "\n",
       "                                                   cast         country  \\\n",
       "6066  Daniel Radcliffe, Jon Hamm, Adam Godley, Chris...  United Kingdom   \n",
       "6174                                   Anthony Bourdain   United States   \n",
       "6795  Kelsey Grammer, Jane Leeves, David Hyde Pierce...   United States   \n",
       "6806  Jennifer Aniston, Courteney Cox, Lisa Kudrow, ...   United States   \n",
       "6901  Yuuka Nanri, Kanako Mitsuhashi, Eri Sendai, Am...           Japan   \n",
       "7196                                      Igor Dmitriev             NaN   \n",
       "7254  Eugenio Derbez, Consuelo Duval, Luis Manuel Áv...   United States   \n",
       "7406  Marc Maron, Judd Hirsch, Josh Brener, Nora Zeh...   United States   \n",
       "7847  Burnie Burns, Jason Saldaña, Gustavo Sorola, G...   United States   \n",
       "8182  Luke Jurevicius, Craig Behenna, Charlotte Haml...       Australia   \n",
       "\n",
       "     date_added release_year rating    duration  \\\n",
       "6066        NaN         2013  TV-MA   2 Seasons   \n",
       "6174        NaN         2018  TV-PG   5 Seasons   \n",
       "6795        NaN         2003  TV-PG  11 Seasons   \n",
       "6806        NaN         2003  TV-14  10 Seasons   \n",
       "6901        NaN         2008  TV-14   2 Seasons   \n",
       "7196        NaN         2010   TV-Y   2 Seasons   \n",
       "7254        NaN         2012  TV-14   3 Seasons   \n",
       "7406        NaN         2016  TV-MA   4 Seasons   \n",
       "7847        NaN         2015     NR  13 Seasons   \n",
       "8182        NaN         2015  TV-Y7   2 Seasons   \n",
       "\n",
       "                                              listed_in  \\\n",
       "6066           British TV Shows, TV Comedies, TV Dramas   \n",
       "6174                                         Docuseries   \n",
       "6795                     Classic & Cult TV, TV Comedies   \n",
       "6806                     Classic & Cult TV, TV Comedies   \n",
       "6901                       Anime Series, Crime TV Shows   \n",
       "7196                                           Kids' TV   \n",
       "7254  International TV Shows, Spanish-Language TV Sh...   \n",
       "7406                                        TV Comedies   \n",
       "7847  TV Action & Adventure, TV Comedies, TV Sci-Fi ...   \n",
       "8182                              Kids' TV, TV Comedies   \n",
       "\n",
       "                                            description  \n",
       "6066  Set during the Russian Revolution, this comic ...  \n",
       "6174  This CNN original series has chef Anthony Bour...  \n",
       "6795  Frasier Crane is a snooty but lovable Seattle ...  \n",
       "6806  This hit sitcom follows the merry misadventure...  \n",
       "6901  On the surface, the Social Welfare Agency appe...  \n",
       "7196  A wacky rabbit and his gang of animal pals hav...  \n",
       "7254  This irreverent sitcom featues Ludovico, Feder...  \n",
       "7406  Marc Maron stars as Marc Maron, who interviews...  \n",
       "7847  This parody of first-person shooter games, mil...  \n",
       "8182  Imagine your worst fears, then multiply them: ...  "
      ]
     },
     "execution_count": 36,
     "metadata": {},
     "output_type": "execute_result"
    }
   ],
   "source": [
    "net[net.date_added.isnull()==True]"
   ]
  },
  {
   "cell_type": "markdown",
   "metadata": {
    "id": "02842251"
   },
   "source": [
    "From above, we can see that all the rows with date_added as `null values` are `TV Shows` and their Directors are also `null`"
   ]
  },
  {
   "cell_type": "code",
   "execution_count": 37,
   "metadata": {
    "colab": {
     "base_uri": "https://localhost:8080/"
    },
    "id": "255399bf",
    "outputId": "b62ca3d2-a581-434b-9f7a-71fd5bb686fd",
    "scrolled": true
   },
   "outputs": [
    {
     "data": {
      "text/plain": [
       "2018    1147\n",
       "2017    1032\n",
       "2019    1030\n",
       "2020     953\n",
       "2016     902\n",
       "        ... \n",
       "1959       1\n",
       "1925       1\n",
       "1961       1\n",
       "1947       1\n",
       "1966       1\n",
       "Name: release_year, Length: 74, dtype: int64"
      ]
     },
     "execution_count": 37,
     "metadata": {},
     "output_type": "execute_result"
    }
   ],
   "source": [
    "net['release_year'].value_counts()"
   ]
  },
  {
   "cell_type": "code",
   "execution_count": 38,
   "metadata": {
    "colab": {
     "base_uri": "https://localhost:8080/"
    },
    "id": "d800e98f",
    "outputId": "db4780ae-bfad-446a-fa47-d193d82af74a",
    "scrolled": true
   },
   "outputs": [
    {
     "data": {
      "text/plain": [
       "July 6, 2021          31\n",
       "January 1, 2016       23\n",
       "August 1, 2017        22\n",
       "June 19, 2021         21\n",
       "July 1, 2017          19\n",
       "                      ..\n",
       "July 20, 2019          1\n",
       "July 18, 2019          1\n",
       "July 6, 2019           1\n",
       "July 5, 2019           1\n",
       "September 13, 2018     1\n",
       "Name: date_added, Length: 1051, dtype: int64"
      ]
     },
     "execution_count": 38,
     "metadata": {},
     "output_type": "execute_result"
    }
   ],
   "source": [
    "net['date_added'][net['type']=='TV Show'].value_counts()"
   ]
  },
  {
   "cell_type": "code",
   "execution_count": 39,
   "metadata": {
    "colab": {
     "base_uri": "https://localhost:8080/"
    },
    "id": "9a257782",
    "outputId": "d7380bd7-5f6b-4770-c03f-0ba51bbd5816",
    "scrolled": false
   },
   "outputs": [
    {
     "data": {
      "text/plain": [
       "0    January 1, 2020\n",
       "dtype: object"
      ]
     },
     "execution_count": 39,
     "metadata": {},
     "output_type": "execute_result"
    }
   ],
   "source": [
    "net['date_added'].mode()"
   ]
  },
  {
   "cell_type": "code",
   "execution_count": 40,
   "metadata": {
    "colab": {
     "base_uri": "https://localhost:8080/"
    },
    "id": "927e3e94",
    "outputId": "0b8262ca-7175-440f-886a-9de4af22f4c3",
    "scrolled": false
   },
   "outputs": [
    {
     "data": {
      "text/plain": [
       "0    July 6, 2021\n",
       "dtype: object"
      ]
     },
     "execution_count": 40,
     "metadata": {},
     "output_type": "execute_result"
    }
   ],
   "source": [
    "net['date_added'][net['type']=='TV Show'].mode()"
   ]
  },
  {
   "cell_type": "markdown",
   "metadata": {
    "id": "c79807a5"
   },
   "source": [
    "I imputed the null values in column `date_added` with `mode of net['date_added'][net['type']=='TV Show']` as all the types of shows aree `TV Show`"
   ]
  },
  {
   "cell_type": "code",
   "execution_count": 41,
   "metadata": {
    "id": "74addbae"
   },
   "outputs": [],
   "source": [
    "net.date_added.fillna(net['date_added'][net['type']=='TV Show'].mode()[0],inplace=True)"
   ]
  },
  {
   "cell_type": "code",
   "execution_count": 42,
   "metadata": {
    "colab": {
     "base_uri": "https://localhost:8080/"
    },
    "id": "f5d72f9e",
    "outputId": "e8be0ba7-f49d-4469-c6a1-c485961acf33",
    "scrolled": true
   },
   "outputs": [
    {
     "data": {
      "text/plain": [
       "0"
      ]
     },
     "execution_count": 42,
     "metadata": {},
     "output_type": "execute_result"
    }
   ],
   "source": [
    "net.date_added.isna().sum()"
   ]
  },
  {
   "cell_type": "code",
   "execution_count": 43,
   "metadata": {
    "colab": {
     "base_uri": "https://localhost:8080/",
     "height": 49
    },
    "id": "b5dd68ac",
    "outputId": "3a5ac7b6-334c-48a8-b4b9-46b626af8919",
    "scrolled": true
   },
   "outputs": [
    {
     "data": {
      "text/html": [
       "<div>\n",
       "<style scoped>\n",
       "    .dataframe tbody tr th:only-of-type {\n",
       "        vertical-align: middle;\n",
       "    }\n",
       "\n",
       "    .dataframe tbody tr th {\n",
       "        vertical-align: top;\n",
       "    }\n",
       "\n",
       "    .dataframe thead th {\n",
       "        text-align: right;\n",
       "    }\n",
       "</style>\n",
       "<table border=\"1\" class=\"dataframe\">\n",
       "  <thead>\n",
       "    <tr style=\"text-align: right;\">\n",
       "      <th></th>\n",
       "      <th>show_id</th>\n",
       "      <th>type</th>\n",
       "      <th>title</th>\n",
       "      <th>director</th>\n",
       "      <th>cast</th>\n",
       "      <th>country</th>\n",
       "      <th>date_added</th>\n",
       "      <th>release_year</th>\n",
       "      <th>rating</th>\n",
       "      <th>duration</th>\n",
       "      <th>listed_in</th>\n",
       "      <th>description</th>\n",
       "    </tr>\n",
       "  </thead>\n",
       "  <tbody>\n",
       "  </tbody>\n",
       "</table>\n",
       "</div>"
      ],
      "text/plain": [
       "Empty DataFrame\n",
       "Columns: [show_id, type, title, director, cast, country, date_added, release_year, rating, duration, listed_in, description]\n",
       "Index: []"
      ]
     },
     "execution_count": 43,
     "metadata": {},
     "output_type": "execute_result"
    }
   ],
   "source": [
    "net[net.date_added.isnull()==True]"
   ]
  },
  {
   "cell_type": "code",
   "execution_count": 44,
   "metadata": {
    "colab": {
     "base_uri": "https://localhost:8080/"
    },
    "id": "663fb4a9",
    "outputId": "6cebb66b-bd6c-4ace-a99e-225bcb1edaab"
   },
   "outputs": [
    {
     "data": {
      "text/plain": [
       "show_id          0.000000\n",
       "type             0.000000\n",
       "title            0.000000\n",
       "director        29.908028\n",
       "cast             9.367549\n",
       "country          9.435676\n",
       "date_added       0.000000\n",
       "release_year     0.000000\n",
       "rating           0.000000\n",
       "duration         0.000000\n",
       "listed_in        0.000000\n",
       "description      0.000000\n",
       "dtype: float64"
      ]
     },
     "execution_count": 44,
     "metadata": {},
     "output_type": "execute_result"
    }
   ],
   "source": [
    "net.isna().sum()/len(net)*100"
   ]
  },
  {
   "cell_type": "code",
   "execution_count": 45,
   "metadata": {
    "colab": {
     "base_uri": "https://localhost:8080/"
    },
    "id": "69305768",
    "outputId": "4593963b-9224-49fd-814e-9059c1e6ab58"
   },
   "outputs": [
    {
     "name": "stdout",
     "output_type": "stream",
     "text": [
      "<class 'pandas.core.frame.DataFrame'>\n",
      "Int64Index: 96 entries, 3 to 8803\n",
      "Data columns (total 12 columns):\n",
      " #   Column        Non-Null Count  Dtype \n",
      "---  ------        --------------  ----- \n",
      " 0   show_id       96 non-null     object\n",
      " 1   type          96 non-null     object\n",
      " 2   title         96 non-null     object\n",
      " 3   director      0 non-null      object\n",
      " 4   cast          0 non-null      object\n",
      " 5   country       0 non-null      object\n",
      " 6   date_added    96 non-null     object\n",
      " 7   release_year  96 non-null     object\n",
      " 8   rating        96 non-null     object\n",
      " 9   duration      96 non-null     object\n",
      " 10  listed_in     96 non-null     object\n",
      " 11  description   96 non-null     object\n",
      "dtypes: object(12)\n",
      "memory usage: 9.8+ KB\n",
      "None\n",
      "<class 'pandas.core.frame.DataFrame'>\n",
      "Int64Index: 8711 entries, 0 to 8806\n",
      "Data columns (total 12 columns):\n",
      " #   Column        Non-Null Count  Dtype \n",
      "---  ------        --------------  ----- \n",
      " 0   show_id       8711 non-null   object\n",
      " 1   type          8711 non-null   object\n",
      " 2   title         8711 non-null   object\n",
      " 3   director      6173 non-null   object\n",
      " 4   cast          7982 non-null   object\n",
      " 5   country       7976 non-null   object\n",
      " 6   date_added    8711 non-null   object\n",
      " 7   release_year  8711 non-null   object\n",
      " 8   rating        8711 non-null   object\n",
      " 9   duration      8711 non-null   object\n",
      " 10  listed_in     8711 non-null   object\n",
      " 11  description   8711 non-null   object\n",
      "dtypes: object(12)\n",
      "memory usage: 884.7+ KB\n",
      "None\n"
     ]
    }
   ],
   "source": [
    "net_null=net[(net['director'].isnull())&(net['country'].isnull())&(net['cast'].isnull())]\n",
    "print(net_null.info())\n",
    "net_nnull=net[(net['director'].notnull())|(net['country'].notnull())|(net['cast'].notnull())]\n",
    "print(net_nnull.info())"
   ]
  },
  {
   "cell_type": "code",
   "execution_count": 46,
   "metadata": {
    "colab": {
     "base_uri": "https://localhost:8080/"
    },
    "id": "a80a674f",
    "outputId": "6e046559-3477-4abe-a687-cde594e19e84"
   },
   "outputs": [
    {
     "name": "stdout",
     "output_type": "stream",
     "text": [
      "<class 'pandas.core.frame.DataFrame'>\n",
      "Int64Index: 96 entries, 3 to 8803\n",
      "Data columns (total 12 columns):\n",
      " #   Column        Non-Null Count  Dtype \n",
      "---  ------        --------------  ----- \n",
      " 0   show_id       96 non-null     object\n",
      " 1   type          96 non-null     object\n",
      " 2   title         96 non-null     object\n",
      " 3   director      0 non-null      object\n",
      " 4   cast          0 non-null      object\n",
      " 5   country       0 non-null      object\n",
      " 6   date_added    96 non-null     object\n",
      " 7   release_year  96 non-null     object\n",
      " 8   rating        96 non-null     object\n",
      " 9   duration      96 non-null     object\n",
      " 10  listed_in     96 non-null     object\n",
      " 11  description   96 non-null     object\n",
      "dtypes: object(12)\n",
      "memory usage: 9.8+ KB\n"
     ]
    }
   ],
   "source": [
    "net_null.info()"
   ]
  },
  {
   "cell_type": "code",
   "execution_count": 47,
   "metadata": {
    "id": "5ead4e41"
   },
   "outputs": [],
   "source": [
    "def unnest(df,ind,col):\n",
    "    df_column=col.apply(lambda x:str(x).split(', ')).tolist()\n",
    "    df_column=pd.DataFrame(df_column,index=ind)\n",
    "    df_column=pd.DataFrame(df_column.stack()).reset_index()\n",
    "    df_column.drop(columns='level_1',inplace=True)\n",
    "    return df_column"
   ]
  },
  {
   "cell_type": "code",
   "execution_count": 48,
   "metadata": {
    "colab": {
     "base_uri": "https://localhost:8080/"
    },
    "id": "gHzSpqz0c6h_",
    "outputId": "b201ab22-8175-481e-d0b9-7f766a5f7d13"
   },
   "outputs": [
    {
     "data": {
      "text/plain": [
       "0    United States\n",
       "dtype: object"
      ]
     },
     "execution_count": 48,
     "metadata": {},
     "output_type": "execute_result"
    }
   ],
   "source": [
    "net_country=unnest(net,net['show_id'],net['country'])\n",
    "net_country.columns=['show_id','Country']\n",
    "net_count=net.merge(net_country,on='show_id',how='inner')\n",
    "net_count.Country.mode()"
   ]
  },
  {
   "cell_type": "code",
   "execution_count": 49,
   "metadata": {
    "colab": {
     "base_uri": "https://localhost:8080/"
    },
    "id": "Goe_KpKpl1Gu",
    "outputId": "6d39b8d9-1442-462f-8b9f-4a2b67fe342e"
   },
   "outputs": [
    {
     "data": {
      "text/plain": [
       "0    United States\n",
       "dtype: object"
      ]
     },
     "execution_count": 49,
     "metadata": {},
     "output_type": "execute_result"
    }
   ],
   "source": [
    "net_count.head()\n",
    "net_count['Country'][net_count['type']=='TV Show'].mode()"
   ]
  },
  {
   "cell_type": "code",
   "execution_count": 50,
   "metadata": {
    "colab": {
     "base_uri": "https://localhost:8080/"
    },
    "id": "RLoxhfkimraN",
    "outputId": "6945575b-cf4e-4070-d33f-82f10e06a4c3"
   },
   "outputs": [
    {
     "data": {
      "text/plain": [
       "0    United States\n",
       "dtype: object"
      ]
     },
     "execution_count": 50,
     "metadata": {},
     "output_type": "execute_result"
    }
   ],
   "source": [
    "net_count.head()\n",
    "net_count['Country'][net_count['type']=='Movie'].mode()"
   ]
  },
  {
   "cell_type": "code",
   "execution_count": 51,
   "metadata": {
    "colab": {
     "base_uri": "https://localhost:8080/"
    },
    "id": "hHVBTa_nmvvr",
    "outputId": "a217710a-4c32-4f3c-f412-21f0b71caae7"
   },
   "outputs": [
    {
     "data": {
      "text/plain": [
       "0    United States\n",
       "dtype: object"
      ]
     },
     "execution_count": 51,
     "metadata": {},
     "output_type": "execute_result"
    }
   ],
   "source": [
    "net_count.head()\n",
    "net_count['Country'].mode()"
   ]
  },
  {
   "cell_type": "code",
   "execution_count": 52,
   "metadata": {
    "colab": {
     "base_uri": "https://localhost:8080/"
    },
    "id": "wN5K7jtFfJI4",
    "outputId": "c344649c-aeb6-4882-a180-d4fd4872d88b"
   },
   "outputs": [
    {
     "name": "stdout",
     "output_type": "stream",
     "text": [
      "<class 'pandas.core.frame.DataFrame'>\n",
      "Int64Index: 96 entries, 3 to 8803\n",
      "Data columns (total 12 columns):\n",
      " #   Column        Non-Null Count  Dtype \n",
      "---  ------        --------------  ----- \n",
      " 0   show_id       96 non-null     object\n",
      " 1   type          96 non-null     object\n",
      " 2   title         96 non-null     object\n",
      " 3   director      0 non-null      object\n",
      " 4   cast          0 non-null      object\n",
      " 5   country       96 non-null     object\n",
      " 6   date_added    96 non-null     object\n",
      " 7   release_year  96 non-null     object\n",
      " 8   rating        96 non-null     object\n",
      " 9   duration      96 non-null     object\n",
      " 10  listed_in     96 non-null     object\n",
      " 11  description   96 non-null     object\n",
      "dtypes: object(12)\n",
      "memory usage: 9.8+ KB\n"
     ]
    },
    {
     "name": "stderr",
     "output_type": "stream",
     "text": [
      "C:\\Users\\pavillion\\Anaconda3\\lib\\site-packages\\pandas\\core\\generic.py:6392: SettingWithCopyWarning: \n",
      "A value is trying to be set on a copy of a slice from a DataFrame\n",
      "\n",
      "See the caveats in the documentation: https://pandas.pydata.org/pandas-docs/stable/user_guide/indexing.html#returning-a-view-versus-a-copy\n",
      "  return self._update_inplace(result)\n"
     ]
    }
   ],
   "source": [
    "net_null.country.fillna(net_count.Country.mode()[0],inplace=True)\n",
    "net_null.info()"
   ]
  },
  {
   "cell_type": "code",
   "execution_count": 53,
   "metadata": {
    "colab": {
     "base_uri": "https://localhost:8080/"
    },
    "id": "Vh7ID8tJklKf",
    "outputId": "28d642cc-25ff-4dcb-827c-b30b0fd2ee0d"
   },
   "outputs": [
    {
     "name": "stdout",
     "output_type": "stream",
     "text": [
      "<class 'pandas.core.frame.DataFrame'>\n",
      "Int64Index: 8807 entries, 0 to 8803\n",
      "Data columns (total 12 columns):\n",
      " #   Column        Non-Null Count  Dtype \n",
      "---  ------        --------------  ----- \n",
      " 0   show_id       8807 non-null   object\n",
      " 1   type          8807 non-null   object\n",
      " 2   title         8807 non-null   object\n",
      " 3   director      6173 non-null   object\n",
      " 4   cast          7982 non-null   object\n",
      " 5   country       8072 non-null   object\n",
      " 6   date_added    8807 non-null   object\n",
      " 7   release_year  8807 non-null   object\n",
      " 8   rating        8807 non-null   object\n",
      " 9   duration      8807 non-null   object\n",
      " 10  listed_in     8807 non-null   object\n",
      " 11  description   8807 non-null   object\n",
      "dtypes: object(12)\n",
      "memory usage: 894.5+ KB\n"
     ]
    }
   ],
   "source": [
    "net_1=pd.concat([net_nnull,net_null])\n",
    "net_1.info()"
   ]
  },
  {
   "cell_type": "code",
   "execution_count": 54,
   "metadata": {
    "id": "9a87d913",
    "outputId": "2fd06ebd-1891-4cde-fbc7-887dc5f21af7"
   },
   "outputs": [
    {
     "name": "stdout",
     "output_type": "stream",
     "text": [
      "<class 'pandas.core.frame.DataFrame'>\n",
      "Int64Index: 8072 entries, 426 to 8261\n",
      "Data columns (total 12 columns):\n",
      " #   Column        Non-Null Count  Dtype \n",
      "---  ------        --------------  ----- \n",
      " 0   show_id       8072 non-null   object\n",
      " 1   type          8072 non-null   object\n",
      " 2   title         8072 non-null   object\n",
      " 3   director      8072 non-null   object\n",
      " 4   cast          7305 non-null   object\n",
      " 5   country       8072 non-null   object\n",
      " 6   date_added    8072 non-null   object\n",
      " 7   release_year  8072 non-null   object\n",
      " 8   rating        8072 non-null   object\n",
      " 9   duration      8072 non-null   object\n",
      " 10  listed_in     8072 non-null   object\n",
      " 11  description   8072 non-null   object\n",
      "dtypes: object(12)\n",
      "memory usage: 819.8+ KB\n",
      "None\n"
     ]
    }
   ],
   "source": [
    "def imp_cat(cat_col1,cat_col2):\n",
    "    global net_df\n",
    "    net_frames=[]\n",
    "    for i in list(set(net_1[cat_col1])):\n",
    "        net_cat=net_1[net_1[cat_col1]==i].copy()\n",
    "        if len(net_cat)>1 and len(net_cat)!=net_cat[cat_col2].isnull().sum():\n",
    "            net_cat[cat_col2].fillna(net_cat[cat_col2].mode()[0],inplace=True)\n",
    "        else:\n",
    "            net_cat[cat_col2].fillna(net_1[cat_col2].mode()[0],inplace=True)\n",
    "        net_frames.append(net_cat)\n",
    "        net_df=pd.concat(net_frames)\n",
    "    return net_df\n",
    "net_d=imp_cat('country','director')\n",
    "print(net_d.info())"
   ]
  },
  {
   "cell_type": "code",
   "execution_count": 55,
   "metadata": {
    "id": "90173fb8",
    "outputId": "b6f169bd-e29d-4bdc-f5c7-6eabfcf16794"
   },
   "outputs": [
    {
     "name": "stdout",
     "output_type": "stream",
     "text": [
      "<class 'pandas.core.frame.DataFrame'>\n",
      "Int64Index: 8072 entries, 426 to 8261\n",
      "Data columns (total 12 columns):\n",
      " #   Column        Non-Null Count  Dtype \n",
      "---  ------        --------------  ----- \n",
      " 0   show_id       8072 non-null   object\n",
      " 1   type          8072 non-null   object\n",
      " 2   title         8072 non-null   object\n",
      " 3   director      8072 non-null   object\n",
      " 4   cast          8072 non-null   object\n",
      " 5   country       8072 non-null   object\n",
      " 6   date_added    8072 non-null   object\n",
      " 7   release_year  8072 non-null   object\n",
      " 8   rating        8072 non-null   object\n",
      " 9   duration      8072 non-null   object\n",
      " 10  listed_in     8072 non-null   object\n",
      " 11  description   8072 non-null   object\n",
      "dtypes: object(12)\n",
      "memory usage: 819.8+ KB\n",
      "None\n"
     ]
    }
   ],
   "source": [
    "def imp_cat(cat_col1,cat_col2):\n",
    "    global net_df\n",
    "    net_frames=[]\n",
    "    for i in list(set(net_d[cat_col1])):\n",
    "        net_cat=net_d[net_d[cat_col1]==i].copy()\n",
    "        if len(net_cat)>1 and len(net_cat)!=net_cat[cat_col2].isnull().sum():\n",
    "            net_cat[cat_col2].fillna(net_cat[cat_col2].mode()[0],inplace=True)\n",
    "        else:\n",
    "            net_cat[cat_col2].fillna(net_d[cat_col2].mode()[0],inplace=True)\n",
    "        net_frames.append(net_cat)\n",
    "        net_df=pd.concat(net_frames)\n",
    "    return net_df\n",
    "net_df=imp_cat('country','cast')\n",
    "print(net_df.info())"
   ]
  },
  {
   "cell_type": "code",
   "execution_count": 56,
   "metadata": {
    "colab": {
     "base_uri": "https://localhost:8080/",
     "height": 763
    },
    "id": "rqlDdF_ElUJc",
    "outputId": "de210f1d-b07f-4036-9feb-826085ebc809",
    "scrolled": true
   },
   "outputs": [
    {
     "data": {
      "text/html": [
       "<div>\n",
       "<style scoped>\n",
       "    .dataframe tbody tr th:only-of-type {\n",
       "        vertical-align: middle;\n",
       "    }\n",
       "\n",
       "    .dataframe tbody tr th {\n",
       "        vertical-align: top;\n",
       "    }\n",
       "\n",
       "    .dataframe thead th {\n",
       "        text-align: right;\n",
       "    }\n",
       "</style>\n",
       "<table border=\"1\" class=\"dataframe\">\n",
       "  <thead>\n",
       "    <tr style=\"text-align: right;\">\n",
       "      <th></th>\n",
       "      <th>show_id</th>\n",
       "      <th>type</th>\n",
       "      <th>title</th>\n",
       "      <th>director</th>\n",
       "      <th>cast</th>\n",
       "      <th>country</th>\n",
       "      <th>date_added</th>\n",
       "      <th>release_year</th>\n",
       "      <th>rating</th>\n",
       "      <th>duration</th>\n",
       "      <th>listed_in</th>\n",
       "      <th>description</th>\n",
       "    </tr>\n",
       "  </thead>\n",
       "  <tbody>\n",
       "  </tbody>\n",
       "</table>\n",
       "</div>"
      ],
      "text/plain": [
       "Empty DataFrame\n",
       "Columns: [show_id, type, title, director, cast, country, date_added, release_year, rating, duration, listed_in, description]\n",
       "Index: []"
      ]
     },
     "execution_count": 56,
     "metadata": {},
     "output_type": "execute_result"
    }
   ],
   "source": [
    "net_df[net_df['country'].isnull()&net_df['director'].notnull()]"
   ]
  },
  {
   "cell_type": "code",
   "execution_count": 57,
   "metadata": {
    "id": "cd6adf22",
    "outputId": "79d9a254-8cdf-4263-96da-dfc56516743f"
   },
   "outputs": [
    {
     "data": {
      "text/plain": [
       "0"
      ]
     },
     "execution_count": 57,
     "metadata": {},
     "output_type": "execute_result"
    }
   ],
   "source": [
    "net_df['director'].isnull().sum()"
   ]
  },
  {
   "cell_type": "code",
   "execution_count": 58,
   "metadata": {
    "colab": {
     "base_uri": "https://localhost:8080/",
     "height": 641
    },
    "id": "N1bUaZiEtckj",
    "outputId": "2f0633de-8849-4b12-8adb-5b7db4be7f60"
   },
   "outputs": [
    {
     "name": "stdout",
     "output_type": "stream",
     "text": [
      "<class 'pandas.core.frame.DataFrame'>\n",
      "Int64Index: 10110 entries, 0 to 10109\n",
      "Data columns (total 12 columns):\n",
      " #   Column        Non-Null Count  Dtype \n",
      "---  ------        --------------  ----- \n",
      " 0   show_id       10110 non-null  object\n",
      " 1   type          10110 non-null  object\n",
      " 2   title         10110 non-null  object\n",
      " 3   director      10110 non-null  object\n",
      " 4   cast          10110 non-null  object\n",
      " 5   date_added    10110 non-null  object\n",
      " 6   release_year  10110 non-null  object\n",
      " 7   rating        10110 non-null  object\n",
      " 8   duration      10110 non-null  object\n",
      " 9   listed_in     10110 non-null  object\n",
      " 10  description   10110 non-null  object\n",
      " 11  Country       10110 non-null  object\n",
      "dtypes: object(12)\n",
      "memory usage: 1.0+ MB\n"
     ]
    }
   ],
   "source": [
    "net_count_1=unnest(net_df,net_df['show_id'],net_df['country'])\n",
    "net_count_1.columns=['show_id','Country']\n",
    "net_count_fl=net_df.merge(net_count_1,on='show_id',how='inner')\n",
    "net_count_fl.drop(columns='country',inplace=True)\n",
    "net_count_fl.info()"
   ]
  },
  {
   "cell_type": "code",
   "execution_count": 59,
   "metadata": {
    "colab": {
     "base_uri": "https://localhost:8080/",
     "height": 641
    },
    "id": "1V5BbiLZvhUa",
    "outputId": "9bbf6e8a-e7cd-419a-d76a-c3c086d8e49a"
   },
   "outputs": [
    {
     "name": "stdout",
     "output_type": "stream",
     "text": [
      "<class 'pandas.core.frame.DataFrame'>\n",
      "Int64Index: 8911 entries, 0 to 8910\n",
      "Data columns (total 12 columns):\n",
      " #   Column        Non-Null Count  Dtype \n",
      "---  ------        --------------  ----- \n",
      " 0   show_id       8911 non-null   object\n",
      " 1   type          8911 non-null   object\n",
      " 2   title         8911 non-null   object\n",
      " 3   cast          8911 non-null   object\n",
      " 4   country       8911 non-null   object\n",
      " 5   date_added    8911 non-null   object\n",
      " 6   release_year  8911 non-null   object\n",
      " 7   rating        8911 non-null   object\n",
      " 8   duration      8911 non-null   object\n",
      " 9   listed_in     8911 non-null   object\n",
      " 10  description   8911 non-null   object\n",
      " 11  Director      8911 non-null   object\n",
      "dtypes: object(12)\n",
      "memory usage: 905.0+ KB\n"
     ]
    }
   ],
   "source": [
    "net_dir_1=unnest(net_df,net_df['show_id'],net_df['director'])\n",
    "net_dir_1.columns=['show_id','Director']\n",
    "net_dir_fl=net_df.merge(net_dir_1,on='show_id',how='inner')\n",
    "net_dir_fl.drop(columns='director',inplace=True)\n",
    "net_dir_fl.info()"
   ]
  },
  {
   "cell_type": "code",
   "execution_count": 60,
   "metadata": {
    "colab": {
     "base_uri": "https://localhost:8080/"
    },
    "id": "pKCXHRkexmVT",
    "outputId": "16bf4eb2-acbc-4abd-93f6-07f53427232e",
    "scrolled": true
   },
   "outputs": [
    {
     "name": "stdout",
     "output_type": "stream",
     "text": [
      "<class 'pandas.core.frame.DataFrame'>\n",
      "Int64Index: 61404 entries, 0 to 61403\n",
      "Data columns (total 12 columns):\n",
      " #   Column        Non-Null Count  Dtype \n",
      "---  ------        --------------  ----- \n",
      " 0   show_id       61404 non-null  object\n",
      " 1   type          61404 non-null  object\n",
      " 2   title         61404 non-null  object\n",
      " 3   director      61404 non-null  object\n",
      " 4   country       61404 non-null  object\n",
      " 5   date_added    61404 non-null  object\n",
      " 6   release_year  61404 non-null  object\n",
      " 7   rating        61404 non-null  object\n",
      " 8   duration      61404 non-null  object\n",
      " 9   listed_in     61404 non-null  object\n",
      " 10  description   61404 non-null  object\n",
      " 11  actor         61404 non-null  object\n",
      "dtypes: object(12)\n",
      "memory usage: 6.1+ MB\n"
     ]
    }
   ],
   "source": [
    "net_cast_1=unnest(net_df,net_df['show_id'],net_df['cast'])\n",
    "net_cast_1.columns=['show_id','actor']\n",
    "net_cast_fl=net_df.merge(net_cast_1,on='show_id',how='inner')\n",
    "net_cast_fl.drop(columns='cast',inplace=True)\n",
    "net_cast_fl.info()"
   ]
  },
  {
   "cell_type": "code",
   "execution_count": 61,
   "metadata": {
    "colab": {
     "base_uri": "https://localhost:8080/"
    },
    "id": "b128a9e5",
    "outputId": "16bf4eb2-acbc-4abd-93f6-07f53427232e",
    "scrolled": false
   },
   "outputs": [
    {
     "name": "stdout",
     "output_type": "stream",
     "text": [
      "<class 'pandas.core.frame.DataFrame'>\n",
      "Int64Index: 17785 entries, 0 to 17784\n",
      "Data columns (total 12 columns):\n",
      " #   Column        Non-Null Count  Dtype \n",
      "---  ------        --------------  ----- \n",
      " 0   show_id       17785 non-null  object\n",
      " 1   type          17785 non-null  object\n",
      " 2   title         17785 non-null  object\n",
      " 3   director      17785 non-null  object\n",
      " 4   cast          17785 non-null  object\n",
      " 5   country       17785 non-null  object\n",
      " 6   date_added    17785 non-null  object\n",
      " 7   release_year  17785 non-null  object\n",
      " 8   rating        17785 non-null  object\n",
      " 9   duration      17785 non-null  object\n",
      " 10  description   17785 non-null  object\n",
      " 11  genre         17785 non-null  object\n",
      "dtypes: object(12)\n",
      "memory usage: 1.8+ MB\n"
     ]
    }
   ],
   "source": [
    "net_genre_1=unnest(net_df,net_df['show_id'],net_df['listed_in'])\n",
    "net_genre_1.columns=['show_id','genre']\n",
    "net_genre_fl=net_df.merge(net_genre_1,on='show_id',how='inner')\n",
    "net_genre_fl.drop(columns='listed_in',inplace=True)\n",
    "net_genre_fl.info()"
   ]
  },
  {
   "cell_type": "code",
   "execution_count": 62,
   "metadata": {
    "colab": {
     "base_uri": "https://localhost:8080/",
     "height": 424
    },
    "id": "SVT6CMSb1ywg",
    "outputId": "869e440d-1fb6-4f08-c470-16a8c4a3db99"
   },
   "outputs": [
    {
     "data": {
      "text/html": [
       "<div>\n",
       "<style scoped>\n",
       "    .dataframe tbody tr th:only-of-type {\n",
       "        vertical-align: middle;\n",
       "    }\n",
       "\n",
       "    .dataframe tbody tr th {\n",
       "        vertical-align: top;\n",
       "    }\n",
       "\n",
       "    .dataframe thead th {\n",
       "        text-align: right;\n",
       "    }\n",
       "</style>\n",
       "<table border=\"1\" class=\"dataframe\">\n",
       "  <thead>\n",
       "    <tr style=\"text-align: right;\">\n",
       "      <th></th>\n",
       "      <th>Country</th>\n",
       "      <th>director</th>\n",
       "    </tr>\n",
       "  </thead>\n",
       "  <tbody>\n",
       "    <tr>\n",
       "      <th>1</th>\n",
       "      <td>Afghanistan</td>\n",
       "      <td>Pieter-Jan De Pue</td>\n",
       "    </tr>\n",
       "    <tr>\n",
       "      <th>2</th>\n",
       "      <td>Albania</td>\n",
       "      <td>Antonio Morabito</td>\n",
       "    </tr>\n",
       "    <tr>\n",
       "      <th>3</th>\n",
       "      <td>Algeria</td>\n",
       "      <td>Youssef Chahine</td>\n",
       "    </tr>\n",
       "    <tr>\n",
       "      <th>4</th>\n",
       "      <td>Angola</td>\n",
       "      <td>Chris Roland, Maradona Dias Dos Santos</td>\n",
       "    </tr>\n",
       "    <tr>\n",
       "      <th>5</th>\n",
       "      <td>Argentina</td>\n",
       "      <td>Álvaro Brechner</td>\n",
       "    </tr>\n",
       "    <tr>\n",
       "      <th>...</th>\n",
       "      <td>...</td>\n",
       "      <td>...</td>\n",
       "    </tr>\n",
       "    <tr>\n",
       "      <th>122</th>\n",
       "      <td>Vatican City</td>\n",
       "      <td>Wim Wenders</td>\n",
       "    </tr>\n",
       "    <tr>\n",
       "      <th>123</th>\n",
       "      <td>Venezuela</td>\n",
       "      <td>Sebastián Schindel</td>\n",
       "    </tr>\n",
       "    <tr>\n",
       "      <th>124</th>\n",
       "      <td>Vietnam</td>\n",
       "      <td>Victor Vu</td>\n",
       "    </tr>\n",
       "    <tr>\n",
       "      <th>125</th>\n",
       "      <td>West Germany</td>\n",
       "      <td>Rajiv Chilaka</td>\n",
       "    </tr>\n",
       "    <tr>\n",
       "      <th>126</th>\n",
       "      <td>Zimbabwe</td>\n",
       "      <td>Tomas Brickhill</td>\n",
       "    </tr>\n",
       "  </tbody>\n",
       "</table>\n",
       "<p>126 rows × 2 columns</p>\n",
       "</div>"
      ],
      "text/plain": [
       "          Country                                director\n",
       "1     Afghanistan                       Pieter-Jan De Pue\n",
       "2         Albania                        Antonio Morabito\n",
       "3         Algeria                         Youssef Chahine\n",
       "4          Angola  Chris Roland, Maradona Dias Dos Santos\n",
       "5       Argentina                         Álvaro Brechner\n",
       "..            ...                                     ...\n",
       "122  Vatican City                             Wim Wenders\n",
       "123     Venezuela                      Sebastián Schindel\n",
       "124       Vietnam                               Victor Vu\n",
       "125  West Germany                           Rajiv Chilaka\n",
       "126      Zimbabwe                         Tomas Brickhill\n",
       "\n",
       "[126 rows x 2 columns]"
      ]
     },
     "execution_count": 62,
     "metadata": {},
     "output_type": "execute_result"
    }
   ],
   "source": [
    "cnt_grp=net_count_fl.dropna().groupby('Country')\n",
    "net_cnt=cnt_grp.agg({'director':['max']})\n",
    "net_cnt=pd.DataFrame(net_cnt).reset_index()\n",
    "net_cnt.columns=['Country','director']\n",
    "net_cnt=net_cnt[(net_cnt['Country']!='nan')&(net_cnt['Country']!='')]\n",
    "net_cnt"
   ]
  },
  {
   "cell_type": "code",
   "execution_count": 63,
   "metadata": {
    "id": "1d96d175",
    "outputId": "2eab2d4b-80a1-40a8-e6df-8bb3b80d8655"
   },
   "outputs": [
    {
     "data": {
      "text/html": [
       "<div>\n",
       "<style scoped>\n",
       "    .dataframe tbody tr th:only-of-type {\n",
       "        vertical-align: middle;\n",
       "    }\n",
       "\n",
       "    .dataframe tbody tr th {\n",
       "        vertical-align: top;\n",
       "    }\n",
       "\n",
       "    .dataframe thead th {\n",
       "        text-align: right;\n",
       "    }\n",
       "</style>\n",
       "<table border=\"1\" class=\"dataframe\">\n",
       "  <thead>\n",
       "    <tr style=\"text-align: right;\">\n",
       "      <th></th>\n",
       "      <th>show_id</th>\n",
       "      <th>type</th>\n",
       "      <th>title</th>\n",
       "      <th>director</th>\n",
       "      <th>cast</th>\n",
       "      <th>country</th>\n",
       "      <th>release_year</th>\n",
       "      <th>rating</th>\n",
       "      <th>duration</th>\n",
       "      <th>listed_in</th>\n",
       "      <th>description</th>\n",
       "      <th>Month</th>\n",
       "      <th>Day</th>\n",
       "      <th>Year</th>\n",
       "    </tr>\n",
       "  </thead>\n",
       "  <tbody>\n",
       "    <tr>\n",
       "      <th>426</th>\n",
       "      <td>s427</td>\n",
       "      <td>Movie</td>\n",
       "      <td>Cousins</td>\n",
       "      <td>Ainsley Gardiner, Briar Grace-Smith</td>\n",
       "      <td>Rachel House, Briar Grace-Smith, Tanea Heke, T...</td>\n",
       "      <td>New Zealand</td>\n",
       "      <td>2021</td>\n",
       "      <td>TV-MA</td>\n",
       "      <td>99 min</td>\n",
       "      <td>Dramas</td>\n",
       "      <td>Separated as children, three cousins with an u...</td>\n",
       "      <td>July</td>\n",
       "      <td>22</td>\n",
       "      <td>2021</td>\n",
       "    </tr>\n",
       "    <tr>\n",
       "      <th>1912</th>\n",
       "      <td>s1913</td>\n",
       "      <td>Movie</td>\n",
       "      <td>Hunt for the Wilderpeople</td>\n",
       "      <td>Taika Waititi</td>\n",
       "      <td>Sam Neill, Julian Dennison, Rima Te Wiata, Rac...</td>\n",
       "      <td>New Zealand</td>\n",
       "      <td>2016</td>\n",
       "      <td>PG-13</td>\n",
       "      <td>101 min</td>\n",
       "      <td>Action &amp; Adventure, Comedies, Dramas</td>\n",
       "      <td>A misadventure in the wilderness leads to life...</td>\n",
       "      <td>October</td>\n",
       "      <td>1</td>\n",
       "      <td>2020</td>\n",
       "    </tr>\n",
       "    <tr>\n",
       "      <th>2256</th>\n",
       "      <td>s2257</td>\n",
       "      <td>Movie</td>\n",
       "      <td>Born Racer</td>\n",
       "      <td>Bryn Evans</td>\n",
       "      <td>Scott Dixon</td>\n",
       "      <td>New Zealand</td>\n",
       "      <td>2018</td>\n",
       "      <td>R</td>\n",
       "      <td>89 min</td>\n",
       "      <td>Documentaries, Sports Movies</td>\n",
       "      <td>In this all-access pass, IndyCar champion Scot...</td>\n",
       "      <td>July</td>\n",
       "      <td>8</td>\n",
       "      <td>2020</td>\n",
       "    </tr>\n",
       "    <tr>\n",
       "      <th>3726</th>\n",
       "      <td>s3727</td>\n",
       "      <td>TV Show</td>\n",
       "      <td>The Casketeers</td>\n",
       "      <td>Ainsley Gardiner, Briar Grace-Smith</td>\n",
       "      <td>Ande Cunningham, Mark Mitchinson, Mia Pistoriu...</td>\n",
       "      <td>New Zealand</td>\n",
       "      <td>2019</td>\n",
       "      <td>TV-14</td>\n",
       "      <td>2 Seasons</td>\n",
       "      <td>International TV Shows, Reality TV</td>\n",
       "      <td>Māori funeral directors Francis and Kaiora Tip...</td>\n",
       "      <td>June</td>\n",
       "      <td>21</td>\n",
       "      <td>2019</td>\n",
       "    </tr>\n",
       "    <tr>\n",
       "      <th>3830</th>\n",
       "      <td>s3831</td>\n",
       "      <td>Movie</td>\n",
       "      <td>Merata: How Mum Decolonised the Screen</td>\n",
       "      <td>Hepi Mita</td>\n",
       "      <td>Hepi Mita</td>\n",
       "      <td>New Zealand</td>\n",
       "      <td>2018</td>\n",
       "      <td>TV-14</td>\n",
       "      <td>88 min</td>\n",
       "      <td>Documentaries</td>\n",
       "      <td>New Zealand film archivist Heperi Mita traces ...</td>\n",
       "      <td>May</td>\n",
       "      <td>12</td>\n",
       "      <td>2019</td>\n",
       "    </tr>\n",
       "  </tbody>\n",
       "</table>\n",
       "</div>"
      ],
      "text/plain": [
       "     show_id     type                                   title  \\\n",
       "426     s427    Movie                                 Cousins   \n",
       "1912   s1913    Movie               Hunt for the Wilderpeople   \n",
       "2256   s2257    Movie                              Born Racer   \n",
       "3726   s3727  TV Show                          The Casketeers   \n",
       "3830   s3831    Movie  Merata: How Mum Decolonised the Screen   \n",
       "\n",
       "                                 director  \\\n",
       "426   Ainsley Gardiner, Briar Grace-Smith   \n",
       "1912                        Taika Waititi   \n",
       "2256                           Bryn Evans   \n",
       "3726  Ainsley Gardiner, Briar Grace-Smith   \n",
       "3830                            Hepi Mita   \n",
       "\n",
       "                                                   cast      country  \\\n",
       "426   Rachel House, Briar Grace-Smith, Tanea Heke, T...  New Zealand   \n",
       "1912  Sam Neill, Julian Dennison, Rima Te Wiata, Rac...  New Zealand   \n",
       "2256                                        Scott Dixon  New Zealand   \n",
       "3726  Ande Cunningham, Mark Mitchinson, Mia Pistoriu...  New Zealand   \n",
       "3830                                          Hepi Mita  New Zealand   \n",
       "\n",
       "     release_year rating   duration                             listed_in  \\\n",
       "426          2021  TV-MA     99 min                                Dramas   \n",
       "1912         2016  PG-13    101 min  Action & Adventure, Comedies, Dramas   \n",
       "2256         2018      R     89 min          Documentaries, Sports Movies   \n",
       "3726         2019  TV-14  2 Seasons    International TV Shows, Reality TV   \n",
       "3830         2018  TV-14     88 min                         Documentaries   \n",
       "\n",
       "                                            description    Month Day  Year  \n",
       "426   Separated as children, three cousins with an u...     July  22  2021  \n",
       "1912  A misadventure in the wilderness leads to life...  October   1  2020  \n",
       "2256  In this all-access pass, IndyCar champion Scot...     July   8  2020  \n",
       "3726  Māori funeral directors Francis and Kaiora Tip...     June  21  2019  \n",
       "3830  New Zealand film archivist Heperi Mita traces ...      May  12  2019  "
      ]
     },
     "execution_count": 63,
     "metadata": {},
     "output_type": "execute_result"
    }
   ],
   "source": [
    "net_df['Month']=net_df['date_added'].str.split(' ',n=1,expand=True)[0]\n",
    "net_df['Day_year']=net_df['date_added'].str.split(' ',n=1,expand=True)[1]\n",
    "net_df['Day']=net_df['Day_year'].str.split(', ',n=1,expand=True)[0]\n",
    "net_df['Year']=net_df['Day_year'].str.split(', ',n=1,expand=True)[1]\n",
    "net_df.drop(['date_added','Day_year'],axis=1,inplace=True)\n",
    "net_df.head()"
   ]
  },
  {
   "cell_type": "code",
   "execution_count": 64,
   "metadata": {
    "id": "a73084a0",
    "outputId": "6b8a7b88-8f88-42d0-c6ea-b8d103f1b85f"
   },
   "outputs": [
    {
     "name": "stdout",
     "output_type": "stream",
     "text": [
      "<class 'pandas.core.frame.DataFrame'>\n",
      "Int64Index: 8072 entries, 6213 to 8261\n",
      "Data columns (total 14 columns):\n",
      " #   Column        Non-Null Count  Dtype \n",
      "---  ------        --------------  ----- \n",
      " 0   show_id       8072 non-null   object\n",
      " 1   type          8072 non-null   object\n",
      " 2   title         8072 non-null   object\n",
      " 3   director      8072 non-null   object\n",
      " 4   cast          8072 non-null   object\n",
      " 5   country       8072 non-null   object\n",
      " 6   release_year  8072 non-null   object\n",
      " 7   rating        8072 non-null   object\n",
      " 8   duration      8072 non-null   object\n",
      " 9   listed_in     8072 non-null   object\n",
      " 10  description   8072 non-null   object\n",
      " 11  Month         8072 non-null   object\n",
      " 12  Day           8072 non-null   object\n",
      " 13  Year          8072 non-null   object\n",
      "dtypes: object(14)\n",
      "memory usage: 945.9+ KB\n"
     ]
    },
    {
     "name": "stderr",
     "output_type": "stream",
     "text": [
      "C:\\Users\\pavillion\\Anaconda3\\lib\\site-packages\\ipykernel_launcher.py:4: SettingWithCopyWarning: \n",
      "A value is trying to be set on a copy of a slice from a DataFrame.\n",
      "Try using .loc[row_indexer,col_indexer] = value instead\n",
      "\n",
      "See the caveats in the documentation: https://pandas.pydata.org/pandas-docs/stable/user_guide/indexing.html#returning-a-view-versus-a-copy\n",
      "  after removing the cwd from sys.path.\n",
      "C:\\Users\\pavillion\\Anaconda3\\lib\\site-packages\\ipykernel_launcher.py:5: SettingWithCopyWarning: \n",
      "A value is trying to be set on a copy of a slice from a DataFrame.\n",
      "Try using .loc[row_indexer,col_indexer] = value instead\n",
      "\n",
      "See the caveats in the documentation: https://pandas.pydata.org/pandas-docs/stable/user_guide/indexing.html#returning-a-view-versus-a-copy\n",
      "  \"\"\"\n",
      "C:\\Users\\pavillion\\Anaconda3\\lib\\site-packages\\pandas\\core\\frame.py:4913: SettingWithCopyWarning: \n",
      "A value is trying to be set on a copy of a slice from a DataFrame\n",
      "\n",
      "See the caveats in the documentation: https://pandas.pydata.org/pandas-docs/stable/user_guide/indexing.html#returning-a-view-versus-a-copy\n",
      "  errors=errors,\n"
     ]
    }
   ],
   "source": [
    "net_df_mon=net_df[net_df['Month']!='']\n",
    "col1=net_df_mon.columns\n",
    "net_df_nmon=net_df[net_df['Month']=='']\n",
    "net_df_nmon['month']=net_df_nmon['Day'].str.split(' ',n=1,expand=True)[0]\n",
    "net_df_nmon['day']=net_df_nmon['Day'].str.split(' ',n=1,expand=True)[1]\n",
    "net_df_nmon.drop(['Month','Day'],axis=1,inplace=True)\n",
    "net_df_nmon=net_df_nmon[['show_id', 'type', 'title', 'director', 'cast', 'country','release_year', 'rating','duration' , 'listed_in', 'description','month', 'day', 'Year']]\n",
    "net_df_nmon.columns=col1\n",
    "net_fl=pd.concat([net_df_nmon,net_df_mon])\n",
    "net_fl.info()"
   ]
  },
  {
   "cell_type": "code",
   "execution_count": 65,
   "metadata": {
    "id": "9da52d6c",
    "outputId": "6538a7f7-2f78-438c-f0e7-67889c81bb97"
   },
   "outputs": [
    {
     "name": "stdout",
     "output_type": "stream",
     "text": [
      "<class 'pandas.core.frame.DataFrame'>\n",
      "Int64Index: 8072 entries, 6213 to 8261\n",
      "Data columns (total 14 columns):\n",
      " #   Column        Non-Null Count  Dtype \n",
      "---  ------        --------------  ----- \n",
      " 0   show_id       8072 non-null   object\n",
      " 1   type          8072 non-null   object\n",
      " 2   title         8072 non-null   object\n",
      " 3   director      8072 non-null   object\n",
      " 4   cast          8072 non-null   object\n",
      " 5   country       8072 non-null   object\n",
      " 6   release_year  8072 non-null   object\n",
      " 7   rating        8072 non-null   object\n",
      " 8   listed_in     8072 non-null   object\n",
      " 9   description   8072 non-null   object\n",
      " 10  Month         8072 non-null   object\n",
      " 11  Day           8072 non-null   object\n",
      " 12  Year          8072 non-null   object\n",
      " 13  Duration      8072 non-null   int32 \n",
      "dtypes: int32(1), object(13)\n",
      "memory usage: 914.4+ KB\n"
     ]
    }
   ],
   "source": [
    "net_fl['Duration']=net_fl['duration'].str.split(' ',n=1,expand=True)[0]\n",
    "net_fl.drop(['duration'],axis=1,inplace=True)\n",
    "net_fl['Duration']=net_fl['Duration'].astype('int')\n",
    "net_fl.info()"
   ]
  },
  {
   "cell_type": "markdown",
   "metadata": {
    "id": "08a305c4"
   },
   "source": [
    "Analysis:"
   ]
  },
  {
   "cell_type": "code",
   "execution_count": 66,
   "metadata": {
    "id": "b5441790",
    "outputId": "8aeabe8c-cb8b-438f-d86f-6f843f7404bc"
   },
   "outputs": [
    {
     "data": {
      "image/png": "[encoded data removed]",
      "text/plain": [
       "<Figure size 432x288 with 1 Axes>"
      ]
     },
     "metadata": {
      "needs_background": "light"
     },
     "output_type": "display_data"
    }
   ],
   "source": [
    "sns.countplot(data=net_df,x='type')\n",
    "plt.title('No. Of Movies and TV Shows in netflix')\n",
    "plt.show()"
   ]
  },
  {
   "cell_type": "code",
   "execution_count": 67,
   "metadata": {
    "id": "9a0818a6",
    "outputId": "f642f21c-dbeb-4911-cd37-abc12d18ad65"
   },
   "outputs": [
    {
     "data": {
      "image/png": "[encoded data removed]",
      "text/plain": [
       "<Figure size 432x288 with 1 Axes>"
      ]
     },
     "metadata": {
      "needs_background": "light"
     },
     "output_type": "display_data"
    }
   ],
   "source": [
    "net_fl['Year']=net_fl['Year'].astype('int')\n",
    "net_fl[net_fl['type']=='Movie'].groupby('Year')['type'].count().plot(kind='bar')\n",
    "plt.show()"
   ]
  },
  {
   "cell_type": "code",
   "execution_count": 68,
   "metadata": {
    "id": "3c8602ed",
    "outputId": "c6228729-80e9-4454-fbe8-6ef5b026a755"
   },
   "outputs": [
    {
     "data": {
      "image/png": "[encoded data removed]",
      "text/plain": [
       "<Figure size 432x288 with 1 Axes>"
      ]
     },
     "metadata": {
      "needs_background": "light"
     },
     "output_type": "display_data"
    }
   ],
   "source": [
    "net_fl['Year']=net_fl['Year'].astype('int')\n",
    "net_fl[net_fl['type']=='TV Show'].groupby('Year')['type'].count().plot(kind='bar')\n",
    "plt.show()"
   ]
  },
  {
   "cell_type": "markdown",
   "metadata": {
    "id": "dbf26bb6"
   },
   "source": [
    "From above we can see that there is a rapid increase in movies and TV Shows but after `2019` there is  a decrease in `Movies`, after `2020` there is decrease in `TV Shows`.\n",
    "\n",
    "But compared to `TV Shows`, the decrease in `Movies` is more."
   ]
  },
  {
   "cell_type": "code",
   "execution_count": 69,
   "metadata": {
    "id": "87817538",
    "outputId": "4aac122a-8872-4465-9b68-dd978fa46940"
   },
   "outputs": [
    {
     "data": {
      "text/plain": [
       "3"
      ]
     },
     "execution_count": 69,
     "metadata": {},
     "output_type": "execute_result"
    }
   ],
   "source": [
    "\n",
    "net_fl[net_fl['type']=='Movie']['Duration'].min()"
   ]
  },
  {
   "cell_type": "code",
   "execution_count": 70,
   "metadata": {
    "id": "31bb76b0",
    "outputId": "05511501-21c3-491d-eaa7-fcfeb371856c"
   },
   "outputs": [
    {
     "data": {
      "text/plain": [
       "312"
      ]
     },
     "execution_count": 70,
     "metadata": {},
     "output_type": "execute_result"
    }
   ],
   "source": [
    "net_fl[net_fl['type']=='Movie']['Duration'].max()"
   ]
  },
  {
   "cell_type": "code",
   "execution_count": 71,
   "metadata": {
    "id": "5e428b1b",
    "outputId": "0ab1ac4b-64bd-46ff-bc56-b2887b92b275"
   },
   "outputs": [
    {
     "data": {
      "text/plain": [
       "1"
      ]
     },
     "execution_count": 71,
     "metadata": {},
     "output_type": "execute_result"
    }
   ],
   "source": [
    "net_fl[net_fl['type']=='TV Show']['Duration'].min()"
   ]
  },
  {
   "cell_type": "code",
   "execution_count": 72,
   "metadata": {
    "id": "88fd81d7",
    "outputId": "055cf3ad-2192-4830-b194-ed28cbf85ccb",
    "scrolled": true
   },
   "outputs": [
    {
     "data": {
      "text/plain": [
       "17"
      ]
     },
     "execution_count": 72,
     "metadata": {},
     "output_type": "execute_result"
    }
   ],
   "source": [
    "net_fl[net_fl['type']=='TV Show']['Duration'].max()"
   ]
  },
  {
   "cell_type": "code",
   "execution_count": 73,
   "metadata": {
    "id": "5494d4f8",
    "outputId": "76e2bc96-c1dd-4fe9-d903-0a06eae0ae08"
   },
   "outputs": [
    {
     "data": {
      "image/png": "[encoded data removed]",
      "text/plain": [
       "<Figure size 432x288 with 1 Axes>"
      ]
     },
     "metadata": {
      "needs_background": "light"
     },
     "output_type": "display_data"
    }
   ],
   "source": [
    "(net_fl[net_fl['type']=='TV Show']['Duration'].value_counts()).plot(kind='bar')\n",
    "plt.xlabel('Seasons')\n",
    "plt.ylabel('Count')\n",
    "plt.title('Seasons and Count')\n",
    "plt.show()"
   ]
  },
  {
   "cell_type": "markdown",
   "metadata": {
    "id": "678a07c4"
   },
   "source": [
    "From above graph we can see that as seasons increases the count of `TV Shows` also decreases."
   ]
  },
  {
   "cell_type": "code",
   "execution_count": 74,
   "metadata": {
    "id": "2c412290",
    "outputId": "1e622508-ba22-4dcd-8ff3-a653b67c9779"
   },
   "outputs": [
    {
     "data": {
      "image/png": "[encoded data removed]",
      "text/plain": [
       "<Figure size 432x288 with 1 Axes>"
      ]
     },
     "metadata": {
      "needs_background": "light"
     },
     "output_type": "display_data"
    }
   ],
   "source": [
    "(net_fl[net_fl['type']=='Movie']['Duration'].value_counts()).plot(kind='box')\n",
    "plt.title('Movies and Duration')\n",
    "plt.show()"
   ]
  },
  {
   "cell_type": "code",
   "execution_count": 75,
   "metadata": {
    "id": "d81be02f",
    "outputId": "9fc50386-ec16-4007-e004-e8cb6ad8810c"
   },
   "outputs": [
    {
     "data": {
      "text/html": [
       "<div>\n",
       "<style scoped>\n",
       "    .dataframe tbody tr th:only-of-type {\n",
       "        vertical-align: middle;\n",
       "    }\n",
       "\n",
       "    .dataframe tbody tr th {\n",
       "        vertical-align: top;\n",
       "    }\n",
       "\n",
       "    .dataframe thead th {\n",
       "        text-align: right;\n",
       "    }\n",
       "</style>\n",
       "<table border=\"1\" class=\"dataframe\">\n",
       "  <thead>\n",
       "    <tr style=\"text-align: right;\">\n",
       "      <th></th>\n",
       "      <th>index</th>\n",
       "      <th>Duration</th>\n",
       "    </tr>\n",
       "  </thead>\n",
       "  <tbody>\n",
       "    <tr>\n",
       "      <th>0</th>\n",
       "      <td>90</td>\n",
       "      <td>147</td>\n",
       "    </tr>\n",
       "    <tr>\n",
       "      <th>1</th>\n",
       "      <td>94</td>\n",
       "      <td>141</td>\n",
       "    </tr>\n",
       "    <tr>\n",
       "      <th>2</th>\n",
       "      <td>93</td>\n",
       "      <td>139</td>\n",
       "    </tr>\n",
       "    <tr>\n",
       "      <th>3</th>\n",
       "      <td>97</td>\n",
       "      <td>139</td>\n",
       "    </tr>\n",
       "    <tr>\n",
       "      <th>4</th>\n",
       "      <td>95</td>\n",
       "      <td>135</td>\n",
       "    </tr>\n",
       "    <tr>\n",
       "      <th>...</th>\n",
       "      <td>...</td>\n",
       "      <td>...</td>\n",
       "    </tr>\n",
       "    <tr>\n",
       "      <th>193</th>\n",
       "      <td>190</td>\n",
       "      <td>1</td>\n",
       "    </tr>\n",
       "    <tr>\n",
       "      <th>194</th>\n",
       "      <td>10</td>\n",
       "      <td>1</td>\n",
       "    </tr>\n",
       "    <tr>\n",
       "      <th>195</th>\n",
       "      <td>3</td>\n",
       "      <td>1</td>\n",
       "    </tr>\n",
       "    <tr>\n",
       "      <th>196</th>\n",
       "      <td>312</td>\n",
       "      <td>1</td>\n",
       "    </tr>\n",
       "    <tr>\n",
       "      <th>197</th>\n",
       "      <td>205</td>\n",
       "      <td>1</td>\n",
       "    </tr>\n",
       "  </tbody>\n",
       "</table>\n",
       "<p>198 rows × 2 columns</p>\n",
       "</div>"
      ],
      "text/plain": [
       "     index  Duration\n",
       "0       90       147\n",
       "1       94       141\n",
       "2       93       139\n",
       "3       97       139\n",
       "4       95       135\n",
       "..     ...       ...\n",
       "193    190         1\n",
       "194     10         1\n",
       "195      3         1\n",
       "196    312         1\n",
       "197    205         1\n",
       "\n",
       "[198 rows x 2 columns]"
      ]
     },
     "execution_count": 75,
     "metadata": {},
     "output_type": "execute_result"
    }
   ],
   "source": [
    "net_mov_dur=pd.DataFrame(net_fl[net_fl['type']=='Movie']['Duration'].value_counts())\n",
    "net_mov_dur.reset_index(inplace=True)\n",
    "net_mov_dur"
   ]
  },
  {
   "cell_type": "code",
   "execution_count": 76,
   "metadata": {
    "id": "9ef9ebfc",
    "outputId": "cbeefb96-be0f-48da-efb7-27552327eb19"
   },
   "outputs": [
    {
     "data": {
      "text/plain": [
       "<matplotlib.axes._subplots.AxesSubplot at 0x16af0e2a348>"
      ]
     },
     "execution_count": 76,
     "metadata": {},
     "output_type": "execute_result"
    },
    {
     "data": {
      "image/png": "[encoded data removed]",
      "text/plain": [
       "<Figure size 432x288 with 1 Axes>"
      ]
     },
     "metadata": {
      "needs_background": "light"
     },
     "output_type": "display_data"
    }
   ],
   "source": [
    "sns.lineplot(data=net_mov_dur,x='index', y='Duration')"
   ]
  },
  {
   "cell_type": "code",
   "execution_count": 77,
   "metadata": {
    "id": "164bc777",
    "outputId": "b13637a8-d337-46e4-a1a4-0db74873905c",
    "scrolled": false
   },
   "outputs": [
    {
     "data": {
      "image/png": "[encoded data removed]",
      "text/plain": [
       "<Figure size 1152x1152 with 1 Axes>"
      ]
     },
     "metadata": {},
     "output_type": "display_data"
    }
   ],
   "source": [
    "(net_genre_fl[net_genre_fl['type']=='Movie']['genre'].value_counts()).plot(kind='pie', figsize=(16,16))\n",
    "plt.title('Types of Movies in netflix')\n",
    "plt.show()"
   ]
  },
  {
   "cell_type": "markdown",
   "metadata": {
    "id": "a7595509"
   },
   "source": [
    "From above we can see that `Movies` from categories `Faith & Spirituality`, `Anime`, `cult` are less opted"
   ]
  },
  {
   "cell_type": "code",
   "execution_count": 78,
   "metadata": {
    "id": "fe1fcb0d",
    "outputId": "e8a0110c-da80-4e1f-df55-2b0ce5751a9f",
    "scrolled": false
   },
   "outputs": [
    {
     "data": {
      "image/png": "[encoded data removed]",
      "text/plain": [
       "<Figure size 1152x1152 with 1 Axes>"
      ]
     },
     "metadata": {},
     "output_type": "display_data"
    }
   ],
   "source": [
    "(net_genre_fl[net_genre_fl['type']=='TV Show']['genre'].value_counts()).plot(kind='pie', figsize=(16,16))\n",
    "plt.title('Types of TV Shows in netflix')\n",
    "plt.show()"
   ]
  },
  {
   "cell_type": "code",
   "execution_count": 79,
   "metadata": {
    "id": "5a3d2c0d",
    "outputId": "b6054bb6-aafb-4ec5-f360-ca30a370c607"
   },
   "outputs": [
    {
     "data": {
      "text/plain": [
       "<matplotlib.axes._subplots.AxesSubplot at 0x16aed2b0088>"
      ]
     },
     "execution_count": 79,
     "metadata": {},
     "output_type": "execute_result"
    },
    {
     "data": {
      "image/png": "[encoded data removed]",
      "text/plain": [
       "<Figure size 432x288 with 2 Axes>"
      ]
     },
     "metadata": {
      "needs_background": "light"
     },
     "output_type": "display_data"
    }
   ],
   "source": [
    "sns.heatmap(net_fl.corr())"
   ]
  },
  {
   "cell_type": "code",
   "execution_count": 80,
   "metadata": {
    "id": "229e85b8",
    "outputId": "02aa2f09-9db0-4099-e6ea-719d233e68e9",
    "scrolled": true
   },
   "outputs": [
    {
     "data": {
      "text/plain": [
       "<matplotlib.axes._subplots.AxesSubplot at 0x16aed1e0388>"
      ]
     },
     "execution_count": 80,
     "metadata": {},
     "output_type": "execute_result"
    },
    {
     "data": {
      "image/png": "[encoded data removed]",
      "text/plain": [
       "<Figure size 432x288 with 1 Axes>"
      ]
     },
     "metadata": {
      "needs_background": "light"
     },
     "output_type": "display_data"
    }
   ],
   "source": [
    "(net_df.rating.value_counts()).plot(kind='bar')"
   ]
  },
  {
   "cell_type": "markdown",
   "metadata": {
    "id": "b3b3e9d3"
   },
   "source": [
    "From Above we can see that the shows with rating `TV-MA` is popular"
   ]
  },
  {
   "cell_type": "code",
   "execution_count": 81,
   "metadata": {
    "id": "8b0b3d2b",
    "outputId": "52b13ec6-78d6-4918-92e2-93b6134048fe",
    "scrolled": true
   },
   "outputs": [
    {
     "data": {
      "text/plain": [
       "TV-14       572\n",
       "TV-MA       266\n",
       "TV-PG       144\n",
       "TV-Y7        17\n",
       "PG-13        11\n",
       "TV-G         10\n",
       "PG            7\n",
       "NR            7\n",
       "TV-Y          6\n",
       "R             5\n",
       "TV-Y7-FV      1\n",
       "Name: rating, dtype: int64"
      ]
     },
     "execution_count": 81,
     "metadata": {},
     "output_type": "execute_result"
    }
   ],
   "source": [
    "net_count_fl[net_count_fl['Country']=='India'].rating.value_counts()"
   ]
  },
  {
   "cell_type": "code",
   "execution_count": 82,
   "metadata": {
    "id": "2777f516",
    "outputId": "cf783acc-8cd5-48ca-8274-08b67dc5f0b6",
    "scrolled": true
   },
   "outputs": [
    {
     "data": {
      "image/png": "[encoded data removed]",
      "text/plain": [
       "<Figure size 432x288 with 1 Axes>"
      ]
     },
     "metadata": {
      "needs_background": "light"
     },
     "output_type": "display_data"
    }
   ],
   "source": [
    "(net_count_fl[net_count_fl['Country']=='India'].rating.value_counts()).plot(kind='bar')\n",
    "plt.show()"
   ]
  },
  {
   "cell_type": "markdown",
   "metadata": {
    "id": "eb69cd10"
   },
   "source": [
    "From Above we can see that the shows with rating `TV-14` are more popular in `India`"
   ]
  },
  {
   "cell_type": "code",
   "execution_count": 83,
   "metadata": {
    "id": "cefba906",
    "outputId": "15fd7e35-e68d-4f7d-89bf-0a1d39ae23f5"
   },
   "outputs": [
    {
     "data": {
      "text/plain": [
       "Marcus Raboy         881\n",
       "Edward Cotterill     211\n",
       "Toshiya Shinohara    167\n",
       "Park Hoon-jung       152\n",
       "Rajiv Chilaka        103\n",
       "                    ... \n",
       "Kirsten Johnson        1\n",
       "Theodore Melfi         1\n",
       "Jeannot Szwarc         1\n",
       "Joe Alves              1\n",
       "James Ivory            1\n",
       "Name: Director, Length: 4739, dtype: int64"
      ]
     },
     "execution_count": 83,
     "metadata": {},
     "output_type": "execute_result"
    }
   ],
   "source": [
    "net_dir_fl['Director'].value_counts()"
   ]
  },
  {
   "cell_type": "code",
   "execution_count": 84,
   "metadata": {
    "id": "801f3c37",
    "outputId": "b2f9b473-880c-4719-f1ec-651ee3d104b1",
    "scrolled": true
   },
   "outputs": [
    {
     "data": {
      "text/plain": [
       "0    David Dhawan\n",
       "dtype: object"
      ]
     },
     "execution_count": 84,
     "metadata": {},
     "output_type": "execute_result"
    }
   ],
   "source": [
    "net_count_fl[(net_count_fl['Country']=='India')&(net_count_fl['type']=='TV Show')]['director'].mode()"
   ]
  },
  {
   "cell_type": "code",
   "execution_count": 85,
   "metadata": {
    "id": "47455aaa",
    "outputId": "2ec0758c-cb09-43c5-f9fd-ce1c18a15dfc",
    "scrolled": true
   },
   "outputs": [
    {
     "data": {
      "text/plain": [
       "0    David Dhawan\n",
       "dtype: object"
      ]
     },
     "execution_count": 85,
     "metadata": {},
     "output_type": "execute_result"
    }
   ],
   "source": [
    "net_count_fl[(net_count_fl['Country']=='India')&(net_count_fl['type']=='Movie')]['director'].mode()"
   ]
  },
  {
   "cell_type": "code",
   "execution_count": 86,
   "metadata": {
    "id": "7ca542da",
    "outputId": "a6192c3f-552f-4c8f-98ee-d2418b5abda0",
    "scrolled": false
   },
   "outputs": [
    {
     "name": "stdout",
     "output_type": "stream",
     "text": [
      "205           Kyo Kii... Main Jhuth Nahin Bolta\n",
      "998                        Searching For Sheela\n",
      "2270                            Chashme Baddoor\n",
      "2334                              Seven (Tamil)\n",
      "2869             Amit Tandon: Family Tandoncies\n",
      "3196                                   Lakeeran\n",
      "4187                                     Adhugo\n",
      "4465                           Yeh Hai Bakrapur\n",
      "5009                                   Judwaa 2\n",
      "5295                      Chadi Jawani Budhe Nu\n",
      "6440                             Chal Mere Bhai\n",
      "6449                            Chashme Buddoor\n",
      "6707                                 Ethirmarai\n",
      "6907                                     Haapus\n",
      "6936                       Haseena Maan Jaayegi\n",
      "7144                                     Judwaa\n",
      "7168                                     Kanika\n",
      "7386                      Maine Pyaar Kyun Kiya\n",
      "7524                       Mujhse Shaadi Karogi\n",
      "7662    One Heart: The A.R. Rahman Concert Film\n",
      "8647                Twisted Trunk, Big Fat Body\n",
      "Name: title, dtype: object\n"
     ]
    }
   ],
   "source": [
    "print(net_df[(net_df['director']=='David Dhawan')&(net_df['type']=='Movie')]['title'])"
   ]
  },
  {
   "cell_type": "code",
   "execution_count": 87,
   "metadata": {
    "id": "b9d7dcac",
    "outputId": "54060a70-79ab-44f7-98c6-107964bb0090",
    "scrolled": true
   },
   "outputs": [
    {
     "data": {
      "text/plain": [
       "4                             Kota Factory\n",
       "39                            Chhota Bheem\n",
       "50                           Dharmakshetra\n",
       "66           Raja Rasoi Aur Anya Kahaniyan\n",
       "69          Stories by Rabindranath Tagore\n",
       "                       ...                \n",
       "8121                           Super Bheem\n",
       "8173                             Thackeray\n",
       "8321    The Golden Years with Javed Akhtar\n",
       "8349                The House That Made Me\n",
       "8775                       Yeh Meri Family\n",
       "Name: title, Length: 70, dtype: object"
      ]
     },
     "execution_count": 87,
     "metadata": {},
     "output_type": "execute_result"
    }
   ],
   "source": [
    "net_df[(net_df['director']=='David Dhawan')&(net_df['type']=='TV Show')]['title']"
   ]
  },
  {
   "cell_type": "markdown",
   "metadata": {
    "id": "e674918a"
   },
   "source": [
    "From Above we can see that Director `David Dhawan` has directed many `Movies` and `TV Shows` in India.\n",
    "\n",
    "`David Dhawan` has directed a total of nearly `91` Shows i.e.., it includes both `Movies` and `TV Shows`."
   ]
  },
  {
   "cell_type": "code",
   "execution_count": 88,
   "metadata": {
    "id": "7432363b",
    "outputId": "f66186a2-1cfd-4431-b74f-e4e0f6f84930"
   },
   "outputs": [
    {
     "data": {
      "image/png": "[encoded data removed]",
      "text/plain": [
       "<Figure size 1152x1152 with 1 Axes>"
      ]
     },
     "metadata": {
      "needs_background": "light"
     },
     "output_type": "display_data"
    }
   ],
   "source": [
    "(net_fl['release_year'].value_counts()).plot(kind='bar',figsize=(16,16))\n",
    "plt.show()"
   ]
  },
  {
   "cell_type": "markdown",
   "metadata": {
    "id": "00695dd2"
   },
   "source": [
    "Recommendations:\n",
    "\n",
    "1. There is a decrease in `TV Shows` and `Movies` in `2021`, but compared to `Movies`, decrease in `TV Shows` is `Less`. Hence, It is better to produce more `TV Shows`.\n",
    "\n",
    "2. In `India`, `Movies` and `TV Shows` with rating `TV-14` are more popular. Hence, It is better to produce `Shows` with rating `TV-14`.\n",
    "\n",
    "3. The `TV Shows` with `less` seasons are popular and their popularity also decreases as the number of seasons increases. Hence it is recommended to produce `TV Shows` with less seasons.\n",
    "\n",
    "4. In India shows which are directed by `David Dhawan` are more popular. Hence, it is better to produce the `shows` directed by him.\n",
    "\n",
    "5. It can be observed that shows which are added in `2018` are more popular. Hence, it is recommended to produce movies from year `2018`[The count may be decreased because of various factors like `covid` in `2019`, Hence there may be a decline in shows produced by netflix]\n",
    "\n",
    "6. From above it can be seen that movies with `Duration`: `90-120` min is more popular.\n",
    "\n",
    "7. From above it can be seen that `Shows` with `Genre` `International` is more popular followed by `Drama` and `Comedy`. Hence `Shows` with `Genre`: ['International','Drama','Comedy'] is better to be produced.\n",
    "\n",
    "8. `Shows` with `Genre`:['Faith','cult'] are less popular. Hence, it is better to Produce these Genre as less as possible."
   ]
  },
  {
   "cell_type": "code",
   "execution_count": null,
   "metadata": {
    "id": "8b9bcef5"
   },
   "outputs": [],
   "source": []
  }
 ],
 "metadata": {
  "colab": {
   "provenance": []
  },
  "kernelspec": {
   "display_name": "Python 3",
   "language": "python",
   "name": "python3"
  },
  "language_info": {
   "codemirror_mode": {
    "name": "ipython",
    "version": 3
   },
   "file_extension": ".py",
   "mimetype": "text/x-python",
   "name": "python",
   "nbconvert_exporter": "python",
   "pygments_lexer": "ipython3",
   "version": "3.7.4"
  }
 },
 "nbformat": 4,
 "nbformat_minor": 5
}
